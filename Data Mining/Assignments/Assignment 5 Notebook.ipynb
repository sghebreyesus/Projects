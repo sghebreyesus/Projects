{
 "cells": [
  {
   "cell_type": "code",
   "execution_count": 2,
   "metadata": {},
   "outputs": [
    {
     "name": "stdout",
     "output_type": "stream",
     "text": [
      "Populating the interactive namespace from numpy and matplotlib\n"
     ]
    }
   ],
   "source": [
    "%pylab inline\n",
    "import warnings\n",
    "warnings.filterwarnings('ignore')"
   ]
  },
  {
   "cell_type": "code",
   "execution_count": 3,
   "metadata": {},
   "outputs": [],
   "source": [
    "import pandas as pd\n",
    "url_beijing = \"https://raw.github.ccs.neu.edu/eaguiar/CS6220_Spring2022/main/data/assignment5/Beijing.csv?token=AAACIA7IS6D2OUGCGKXNLY3CH2CGU\"\n",
    "url_chengdu = \"https://raw.github.ccs.neu.edu/eaguiar/CS6220_Spring2022/main/data/assignment5/Chengdu.csv?token=AAACIA3HWVUNQWZNLPM2SSLCH2DHQ\"\n",
    "url_guangzhou = \"https://raw.github.ccs.neu.edu/eaguiar/CS6220_Spring2022/main/data/assignment5/Guangzhou.csv?token=AAACIA64WO5FNGZL3GERA63CH2DUM\"\n",
    "url_shanghai = \"https://raw.github.ccs.neu.edu/eaguiar/CS6220_Spring2022/main/data/assignment5/Shanghai.csv?token=AAACIAYFD5GLMLP4S5DD6WLCH2DY4\"\n",
    "url_shenyang = \"https://raw.github.ccs.neu.edu/eaguiar/CS6220_Spring2022/main/data/assignment5/Shenyang.csv?token=AAACIAZ3GDEDZKPJKBNADPTCH2D3U\"\n",
    "df_beijing = pd.read_csv(url_beijing, sep=',')\n",
    "df_chengdu = pd.read_csv(url_chengdu, sep=',')\n",
    "df_guangzhou = pd.read_csv(url_guangzhou, sep=',')\n",
    "df_shanghai = pd.read_csv(url_shanghai, sep=',')\n",
    "df_shenyang = pd.read_csv(url_shenyang, sep=',')"
   ]
  },
  {
   "cell_type": "code",
   "execution_count": 4,
   "metadata": {},
   "outputs": [
    {
     "data": {
      "text/html": [
       "<div>\n",
       "<style scoped>\n",
       "    .dataframe tbody tr th:only-of-type {\n",
       "        vertical-align: middle;\n",
       "    }\n",
       "\n",
       "    .dataframe tbody tr th {\n",
       "        vertical-align: top;\n",
       "    }\n",
       "\n",
       "    .dataframe thead th {\n",
       "        text-align: right;\n",
       "    }\n",
       "</style>\n",
       "<table border=\"1\" class=\"dataframe\">\n",
       "  <thead>\n",
       "    <tr style=\"text-align: right;\">\n",
       "      <th></th>\n",
       "      <th>year</th>\n",
       "      <th>month</th>\n",
       "      <th>day</th>\n",
       "      <th>hour</th>\n",
       "      <th>season</th>\n",
       "      <th>PM</th>\n",
       "      <th>DEWP</th>\n",
       "      <th>HUMI</th>\n",
       "      <th>PRES</th>\n",
       "      <th>TEMP</th>\n",
       "      <th>Iws</th>\n",
       "      <th>precipitation</th>\n",
       "      <th>Iprec</th>\n",
       "    </tr>\n",
       "  </thead>\n",
       "  <tbody>\n",
       "    <tr>\n",
       "      <th>0</th>\n",
       "      <td>2010</td>\n",
       "      <td>1</td>\n",
       "      <td>1</td>\n",
       "      <td>0</td>\n",
       "      <td>4</td>\n",
       "      <td>NaN</td>\n",
       "      <td>-21.0</td>\n",
       "      <td>43.0</td>\n",
       "      <td>1021.0</td>\n",
       "      <td>-11.0</td>\n",
       "      <td>1.79</td>\n",
       "      <td>0.0</td>\n",
       "      <td>0.0</td>\n",
       "    </tr>\n",
       "    <tr>\n",
       "      <th>1</th>\n",
       "      <td>2010</td>\n",
       "      <td>1</td>\n",
       "      <td>1</td>\n",
       "      <td>1</td>\n",
       "      <td>4</td>\n",
       "      <td>NaN</td>\n",
       "      <td>-21.0</td>\n",
       "      <td>47.0</td>\n",
       "      <td>1020.0</td>\n",
       "      <td>-12.0</td>\n",
       "      <td>4.92</td>\n",
       "      <td>0.0</td>\n",
       "      <td>0.0</td>\n",
       "    </tr>\n",
       "    <tr>\n",
       "      <th>2</th>\n",
       "      <td>2010</td>\n",
       "      <td>1</td>\n",
       "      <td>1</td>\n",
       "      <td>2</td>\n",
       "      <td>4</td>\n",
       "      <td>NaN</td>\n",
       "      <td>-21.0</td>\n",
       "      <td>43.0</td>\n",
       "      <td>1019.0</td>\n",
       "      <td>-11.0</td>\n",
       "      <td>6.71</td>\n",
       "      <td>0.0</td>\n",
       "      <td>0.0</td>\n",
       "    </tr>\n",
       "    <tr>\n",
       "      <th>3</th>\n",
       "      <td>2010</td>\n",
       "      <td>1</td>\n",
       "      <td>1</td>\n",
       "      <td>3</td>\n",
       "      <td>4</td>\n",
       "      <td>NaN</td>\n",
       "      <td>-21.0</td>\n",
       "      <td>55.0</td>\n",
       "      <td>1019.0</td>\n",
       "      <td>-14.0</td>\n",
       "      <td>9.84</td>\n",
       "      <td>0.0</td>\n",
       "      <td>0.0</td>\n",
       "    </tr>\n",
       "    <tr>\n",
       "      <th>4</th>\n",
       "      <td>2010</td>\n",
       "      <td>1</td>\n",
       "      <td>1</td>\n",
       "      <td>4</td>\n",
       "      <td>4</td>\n",
       "      <td>NaN</td>\n",
       "      <td>-20.0</td>\n",
       "      <td>51.0</td>\n",
       "      <td>1018.0</td>\n",
       "      <td>-12.0</td>\n",
       "      <td>12.97</td>\n",
       "      <td>0.0</td>\n",
       "      <td>0.0</td>\n",
       "    </tr>\n",
       "  </tbody>\n",
       "</table>\n",
       "</div>"
      ],
      "text/plain": [
       "   year  month  day  hour  season  PM  DEWP  HUMI    PRES  TEMP    Iws  \\\n",
       "0  2010      1    1     0       4 NaN -21.0  43.0  1021.0 -11.0   1.79   \n",
       "1  2010      1    1     1       4 NaN -21.0  47.0  1020.0 -12.0   4.92   \n",
       "2  2010      1    1     2       4 NaN -21.0  43.0  1019.0 -11.0   6.71   \n",
       "3  2010      1    1     3       4 NaN -21.0  55.0  1019.0 -14.0   9.84   \n",
       "4  2010      1    1     4       4 NaN -20.0  51.0  1018.0 -12.0  12.97   \n",
       "\n",
       "   precipitation  Iprec  \n",
       "0            0.0    0.0  \n",
       "1            0.0    0.0  \n",
       "2            0.0    0.0  \n",
       "3            0.0    0.0  \n",
       "4            0.0    0.0  "
      ]
     },
     "execution_count": 4,
     "metadata": {},
     "output_type": "execute_result"
    }
   ],
   "source": [
    "df_beijing.head()"
   ]
  },
  {
   "cell_type": "code",
   "execution_count": 5,
   "metadata": {},
   "outputs": [
    {
     "data": {
      "text/html": [
       "<div>\n",
       "<style scoped>\n",
       "    .dataframe tbody tr th:only-of-type {\n",
       "        vertical-align: middle;\n",
       "    }\n",
       "\n",
       "    .dataframe tbody tr th {\n",
       "        vertical-align: top;\n",
       "    }\n",
       "\n",
       "    .dataframe thead th {\n",
       "        text-align: right;\n",
       "    }\n",
       "</style>\n",
       "<table border=\"1\" class=\"dataframe\">\n",
       "  <thead>\n",
       "    <tr style=\"text-align: right;\">\n",
       "      <th></th>\n",
       "      <th>year</th>\n",
       "      <th>month</th>\n",
       "      <th>day</th>\n",
       "      <th>hour</th>\n",
       "      <th>season</th>\n",
       "      <th>PM</th>\n",
       "      <th>DEWP</th>\n",
       "      <th>HUMI</th>\n",
       "      <th>PRES</th>\n",
       "      <th>TEMP</th>\n",
       "      <th>Iws</th>\n",
       "      <th>precipitation</th>\n",
       "      <th>Iprec</th>\n",
       "    </tr>\n",
       "  </thead>\n",
       "  <tbody>\n",
       "    <tr>\n",
       "      <th>0</th>\n",
       "      <td>2010</td>\n",
       "      <td>1</td>\n",
       "      <td>1</td>\n",
       "      <td>0</td>\n",
       "      <td>4</td>\n",
       "      <td>NaN</td>\n",
       "      <td>4.0</td>\n",
       "      <td>81.20</td>\n",
       "      <td>1022.0</td>\n",
       "      <td>7.0</td>\n",
       "      <td>1.0</td>\n",
       "      <td>0.0</td>\n",
       "      <td>0.0</td>\n",
       "    </tr>\n",
       "    <tr>\n",
       "      <th>1</th>\n",
       "      <td>2010</td>\n",
       "      <td>1</td>\n",
       "      <td>1</td>\n",
       "      <td>1</td>\n",
       "      <td>4</td>\n",
       "      <td>NaN</td>\n",
       "      <td>4.0</td>\n",
       "      <td>86.99</td>\n",
       "      <td>1022.0</td>\n",
       "      <td>6.0</td>\n",
       "      <td>1.0</td>\n",
       "      <td>0.0</td>\n",
       "      <td>0.0</td>\n",
       "    </tr>\n",
       "    <tr>\n",
       "      <th>2</th>\n",
       "      <td>2010</td>\n",
       "      <td>1</td>\n",
       "      <td>1</td>\n",
       "      <td>2</td>\n",
       "      <td>4</td>\n",
       "      <td>NaN</td>\n",
       "      <td>4.0</td>\n",
       "      <td>86.99</td>\n",
       "      <td>1021.0</td>\n",
       "      <td>6.0</td>\n",
       "      <td>1.0</td>\n",
       "      <td>0.0</td>\n",
       "      <td>0.0</td>\n",
       "    </tr>\n",
       "    <tr>\n",
       "      <th>3</th>\n",
       "      <td>2010</td>\n",
       "      <td>1</td>\n",
       "      <td>1</td>\n",
       "      <td>3</td>\n",
       "      <td>4</td>\n",
       "      <td>NaN</td>\n",
       "      <td>3.0</td>\n",
       "      <td>86.89</td>\n",
       "      <td>1021.0</td>\n",
       "      <td>5.0</td>\n",
       "      <td>1.0</td>\n",
       "      <td>0.0</td>\n",
       "      <td>0.0</td>\n",
       "    </tr>\n",
       "    <tr>\n",
       "      <th>4</th>\n",
       "      <td>2010</td>\n",
       "      <td>1</td>\n",
       "      <td>1</td>\n",
       "      <td>4</td>\n",
       "      <td>4</td>\n",
       "      <td>NaN</td>\n",
       "      <td>2.0</td>\n",
       "      <td>86.79</td>\n",
       "      <td>1021.0</td>\n",
       "      <td>4.0</td>\n",
       "      <td>1.0</td>\n",
       "      <td>0.0</td>\n",
       "      <td>0.0</td>\n",
       "    </tr>\n",
       "  </tbody>\n",
       "</table>\n",
       "</div>"
      ],
      "text/plain": [
       "   year  month  day  hour  season  PM  DEWP   HUMI    PRES  TEMP  Iws  \\\n",
       "0  2010      1    1     0       4 NaN   4.0  81.20  1022.0   7.0  1.0   \n",
       "1  2010      1    1     1       4 NaN   4.0  86.99  1022.0   6.0  1.0   \n",
       "2  2010      1    1     2       4 NaN   4.0  86.99  1021.0   6.0  1.0   \n",
       "3  2010      1    1     3       4 NaN   3.0  86.89  1021.0   5.0  1.0   \n",
       "4  2010      1    1     4       4 NaN   2.0  86.79  1021.0   4.0  1.0   \n",
       "\n",
       "   precipitation  Iprec  \n",
       "0            0.0    0.0  \n",
       "1            0.0    0.0  \n",
       "2            0.0    0.0  \n",
       "3            0.0    0.0  \n",
       "4            0.0    0.0  "
      ]
     },
     "execution_count": 5,
     "metadata": {},
     "output_type": "execute_result"
    }
   ],
   "source": [
    "df_chengdu.head()"
   ]
  },
  {
   "cell_type": "code",
   "execution_count": 6,
   "metadata": {},
   "outputs": [
    {
     "data": {
      "text/html": [
       "<div>\n",
       "<style scoped>\n",
       "    .dataframe tbody tr th:only-of-type {\n",
       "        vertical-align: middle;\n",
       "    }\n",
       "\n",
       "    .dataframe tbody tr th {\n",
       "        vertical-align: top;\n",
       "    }\n",
       "\n",
       "    .dataframe thead th {\n",
       "        text-align: right;\n",
       "    }\n",
       "</style>\n",
       "<table border=\"1\" class=\"dataframe\">\n",
       "  <thead>\n",
       "    <tr style=\"text-align: right;\">\n",
       "      <th></th>\n",
       "      <th>year</th>\n",
       "      <th>month</th>\n",
       "      <th>day</th>\n",
       "      <th>hour</th>\n",
       "      <th>season</th>\n",
       "      <th>PM</th>\n",
       "      <th>DEWP</th>\n",
       "      <th>HUMI</th>\n",
       "      <th>PRES</th>\n",
       "      <th>TEMP</th>\n",
       "      <th>Iws</th>\n",
       "      <th>precipitation</th>\n",
       "      <th>Iprec</th>\n",
       "    </tr>\n",
       "  </thead>\n",
       "  <tbody>\n",
       "    <tr>\n",
       "      <th>0</th>\n",
       "      <td>2010</td>\n",
       "      <td>1</td>\n",
       "      <td>1</td>\n",
       "      <td>0</td>\n",
       "      <td>4.0</td>\n",
       "      <td>NaN</td>\n",
       "      <td>9.4</td>\n",
       "      <td>76.0</td>\n",
       "      <td>1015.1</td>\n",
       "      <td>13.5</td>\n",
       "      <td>0.8</td>\n",
       "      <td>0.0</td>\n",
       "      <td>0.0</td>\n",
       "    </tr>\n",
       "    <tr>\n",
       "      <th>1</th>\n",
       "      <td>2010</td>\n",
       "      <td>1</td>\n",
       "      <td>1</td>\n",
       "      <td>1</td>\n",
       "      <td>4.0</td>\n",
       "      <td>NaN</td>\n",
       "      <td>10.2</td>\n",
       "      <td>83.0</td>\n",
       "      <td>1015.2</td>\n",
       "      <td>13.0</td>\n",
       "      <td>0.5</td>\n",
       "      <td>0.0</td>\n",
       "      <td>0.0</td>\n",
       "    </tr>\n",
       "    <tr>\n",
       "      <th>2</th>\n",
       "      <td>2010</td>\n",
       "      <td>1</td>\n",
       "      <td>1</td>\n",
       "      <td>2</td>\n",
       "      <td>4.0</td>\n",
       "      <td>NaN</td>\n",
       "      <td>10.4</td>\n",
       "      <td>87.0</td>\n",
       "      <td>1015.0</td>\n",
       "      <td>12.5</td>\n",
       "      <td>0.6</td>\n",
       "      <td>0.3</td>\n",
       "      <td>0.3</td>\n",
       "    </tr>\n",
       "    <tr>\n",
       "      <th>3</th>\n",
       "      <td>2010</td>\n",
       "      <td>1</td>\n",
       "      <td>1</td>\n",
       "      <td>3</td>\n",
       "      <td>4.0</td>\n",
       "      <td>NaN</td>\n",
       "      <td>10.2</td>\n",
       "      <td>89.0</td>\n",
       "      <td>1014.9</td>\n",
       "      <td>12.0</td>\n",
       "      <td>1.4</td>\n",
       "      <td>0.6</td>\n",
       "      <td>0.9</td>\n",
       "    </tr>\n",
       "    <tr>\n",
       "      <th>4</th>\n",
       "      <td>2010</td>\n",
       "      <td>1</td>\n",
       "      <td>1</td>\n",
       "      <td>4</td>\n",
       "      <td>4.0</td>\n",
       "      <td>NaN</td>\n",
       "      <td>10.4</td>\n",
       "      <td>91.0</td>\n",
       "      <td>1014.6</td>\n",
       "      <td>11.8</td>\n",
       "      <td>0.6</td>\n",
       "      <td>0.7</td>\n",
       "      <td>1.6</td>\n",
       "    </tr>\n",
       "  </tbody>\n",
       "</table>\n",
       "</div>"
      ],
      "text/plain": [
       "   year  month  day  hour  season  PM  DEWP  HUMI    PRES  TEMP  Iws  \\\n",
       "0  2010      1    1     0     4.0 NaN   9.4  76.0  1015.1  13.5  0.8   \n",
       "1  2010      1    1     1     4.0 NaN  10.2  83.0  1015.2  13.0  0.5   \n",
       "2  2010      1    1     2     4.0 NaN  10.4  87.0  1015.0  12.5  0.6   \n",
       "3  2010      1    1     3     4.0 NaN  10.2  89.0  1014.9  12.0  1.4   \n",
       "4  2010      1    1     4     4.0 NaN  10.4  91.0  1014.6  11.8  0.6   \n",
       "\n",
       "   precipitation  Iprec  \n",
       "0            0.0    0.0  \n",
       "1            0.0    0.0  \n",
       "2            0.3    0.3  \n",
       "3            0.6    0.9  \n",
       "4            0.7    1.6  "
      ]
     },
     "execution_count": 6,
     "metadata": {},
     "output_type": "execute_result"
    }
   ],
   "source": [
    "df_guangzhou.head()"
   ]
  },
  {
   "cell_type": "code",
   "execution_count": 7,
   "metadata": {},
   "outputs": [
    {
     "data": {
      "text/html": [
       "<div>\n",
       "<style scoped>\n",
       "    .dataframe tbody tr th:only-of-type {\n",
       "        vertical-align: middle;\n",
       "    }\n",
       "\n",
       "    .dataframe tbody tr th {\n",
       "        vertical-align: top;\n",
       "    }\n",
       "\n",
       "    .dataframe thead th {\n",
       "        text-align: right;\n",
       "    }\n",
       "</style>\n",
       "<table border=\"1\" class=\"dataframe\">\n",
       "  <thead>\n",
       "    <tr style=\"text-align: right;\">\n",
       "      <th></th>\n",
       "      <th>year</th>\n",
       "      <th>month</th>\n",
       "      <th>day</th>\n",
       "      <th>hour</th>\n",
       "      <th>season</th>\n",
       "      <th>PM</th>\n",
       "      <th>DEWP</th>\n",
       "      <th>HUMI</th>\n",
       "      <th>PRES</th>\n",
       "      <th>TEMP</th>\n",
       "      <th>Iws</th>\n",
       "      <th>precipitation</th>\n",
       "      <th>Iprec</th>\n",
       "    </tr>\n",
       "  </thead>\n",
       "  <tbody>\n",
       "    <tr>\n",
       "      <th>0</th>\n",
       "      <td>2010</td>\n",
       "      <td>1</td>\n",
       "      <td>1</td>\n",
       "      <td>0</td>\n",
       "      <td>4</td>\n",
       "      <td>NaN</td>\n",
       "      <td>-6.0</td>\n",
       "      <td>59.48</td>\n",
       "      <td>1026.1</td>\n",
       "      <td>1.0</td>\n",
       "      <td>1.0</td>\n",
       "      <td>0.0</td>\n",
       "      <td>0.0</td>\n",
       "    </tr>\n",
       "    <tr>\n",
       "      <th>1</th>\n",
       "      <td>2010</td>\n",
       "      <td>1</td>\n",
       "      <td>1</td>\n",
       "      <td>1</td>\n",
       "      <td>4</td>\n",
       "      <td>NaN</td>\n",
       "      <td>-6.0</td>\n",
       "      <td>59.48</td>\n",
       "      <td>1025.1</td>\n",
       "      <td>1.0</td>\n",
       "      <td>2.0</td>\n",
       "      <td>0.0</td>\n",
       "      <td>0.0</td>\n",
       "    </tr>\n",
       "    <tr>\n",
       "      <th>2</th>\n",
       "      <td>2010</td>\n",
       "      <td>1</td>\n",
       "      <td>1</td>\n",
       "      <td>2</td>\n",
       "      <td>4</td>\n",
       "      <td>NaN</td>\n",
       "      <td>-7.0</td>\n",
       "      <td>59.21</td>\n",
       "      <td>1025.1</td>\n",
       "      <td>0.0</td>\n",
       "      <td>4.0</td>\n",
       "      <td>0.0</td>\n",
       "      <td>0.0</td>\n",
       "    </tr>\n",
       "    <tr>\n",
       "      <th>3</th>\n",
       "      <td>2010</td>\n",
       "      <td>1</td>\n",
       "      <td>1</td>\n",
       "      <td>3</td>\n",
       "      <td>4</td>\n",
       "      <td>NaN</td>\n",
       "      <td>-6.0</td>\n",
       "      <td>63.94</td>\n",
       "      <td>1024.0</td>\n",
       "      <td>0.0</td>\n",
       "      <td>5.0</td>\n",
       "      <td>0.0</td>\n",
       "      <td>0.0</td>\n",
       "    </tr>\n",
       "    <tr>\n",
       "      <th>4</th>\n",
       "      <td>2010</td>\n",
       "      <td>1</td>\n",
       "      <td>1</td>\n",
       "      <td>4</td>\n",
       "      <td>4</td>\n",
       "      <td>NaN</td>\n",
       "      <td>-6.0</td>\n",
       "      <td>63.94</td>\n",
       "      <td>1023.0</td>\n",
       "      <td>0.0</td>\n",
       "      <td>8.0</td>\n",
       "      <td>0.0</td>\n",
       "      <td>0.0</td>\n",
       "    </tr>\n",
       "  </tbody>\n",
       "</table>\n",
       "</div>"
      ],
      "text/plain": [
       "   year  month  day  hour  season  PM  DEWP   HUMI    PRES  TEMP  Iws  \\\n",
       "0  2010      1    1     0       4 NaN  -6.0  59.48  1026.1   1.0  1.0   \n",
       "1  2010      1    1     1       4 NaN  -6.0  59.48  1025.1   1.0  2.0   \n",
       "2  2010      1    1     2       4 NaN  -7.0  59.21  1025.1   0.0  4.0   \n",
       "3  2010      1    1     3       4 NaN  -6.0  63.94  1024.0   0.0  5.0   \n",
       "4  2010      1    1     4       4 NaN  -6.0  63.94  1023.0   0.0  8.0   \n",
       "\n",
       "   precipitation  Iprec  \n",
       "0            0.0    0.0  \n",
       "1            0.0    0.0  \n",
       "2            0.0    0.0  \n",
       "3            0.0    0.0  \n",
       "4            0.0    0.0  "
      ]
     },
     "execution_count": 7,
     "metadata": {},
     "output_type": "execute_result"
    }
   ],
   "source": [
    "df_shanghai.head()"
   ]
  },
  {
   "cell_type": "code",
   "execution_count": 8,
   "metadata": {},
   "outputs": [
    {
     "data": {
      "text/html": [
       "<div>\n",
       "<style scoped>\n",
       "    .dataframe tbody tr th:only-of-type {\n",
       "        vertical-align: middle;\n",
       "    }\n",
       "\n",
       "    .dataframe tbody tr th {\n",
       "        vertical-align: top;\n",
       "    }\n",
       "\n",
       "    .dataframe thead th {\n",
       "        text-align: right;\n",
       "    }\n",
       "</style>\n",
       "<table border=\"1\" class=\"dataframe\">\n",
       "  <thead>\n",
       "    <tr style=\"text-align: right;\">\n",
       "      <th></th>\n",
       "      <th>year</th>\n",
       "      <th>month</th>\n",
       "      <th>day</th>\n",
       "      <th>hour</th>\n",
       "      <th>season</th>\n",
       "      <th>PM</th>\n",
       "      <th>DEWP</th>\n",
       "      <th>HUMI</th>\n",
       "      <th>PRES</th>\n",
       "      <th>TEMP</th>\n",
       "      <th>Iws</th>\n",
       "      <th>precipitation</th>\n",
       "      <th>Iprec</th>\n",
       "    </tr>\n",
       "  </thead>\n",
       "  <tbody>\n",
       "    <tr>\n",
       "      <th>0</th>\n",
       "      <td>2010</td>\n",
       "      <td>1</td>\n",
       "      <td>1</td>\n",
       "      <td>0</td>\n",
       "      <td>4</td>\n",
       "      <td>NaN</td>\n",
       "      <td>-26.0</td>\n",
       "      <td>69.79</td>\n",
       "      <td>1024.0</td>\n",
       "      <td>-22.0</td>\n",
       "      <td>1.0289</td>\n",
       "      <td>NaN</td>\n",
       "      <td>NaN</td>\n",
       "    </tr>\n",
       "    <tr>\n",
       "      <th>1</th>\n",
       "      <td>2010</td>\n",
       "      <td>1</td>\n",
       "      <td>1</td>\n",
       "      <td>1</td>\n",
       "      <td>4</td>\n",
       "      <td>NaN</td>\n",
       "      <td>-26.0</td>\n",
       "      <td>76.26</td>\n",
       "      <td>1024.0</td>\n",
       "      <td>-23.0</td>\n",
       "      <td>2.5722</td>\n",
       "      <td>NaN</td>\n",
       "      <td>NaN</td>\n",
       "    </tr>\n",
       "    <tr>\n",
       "      <th>2</th>\n",
       "      <td>2010</td>\n",
       "      <td>1</td>\n",
       "      <td>1</td>\n",
       "      <td>2</td>\n",
       "      <td>4</td>\n",
       "      <td>NaN</td>\n",
       "      <td>-27.0</td>\n",
       "      <td>69.56</td>\n",
       "      <td>1023.0</td>\n",
       "      <td>-23.0</td>\n",
       "      <td>5.1444</td>\n",
       "      <td>NaN</td>\n",
       "      <td>NaN</td>\n",
       "    </tr>\n",
       "    <tr>\n",
       "      <th>3</th>\n",
       "      <td>2010</td>\n",
       "      <td>1</td>\n",
       "      <td>1</td>\n",
       "      <td>3</td>\n",
       "      <td>4</td>\n",
       "      <td>NaN</td>\n",
       "      <td>-27.0</td>\n",
       "      <td>69.56</td>\n",
       "      <td>1023.0</td>\n",
       "      <td>-23.0</td>\n",
       "      <td>7.7166</td>\n",
       "      <td>NaN</td>\n",
       "      <td>NaN</td>\n",
       "    </tr>\n",
       "    <tr>\n",
       "      <th>4</th>\n",
       "      <td>2010</td>\n",
       "      <td>1</td>\n",
       "      <td>1</td>\n",
       "      <td>4</td>\n",
       "      <td>4</td>\n",
       "      <td>NaN</td>\n",
       "      <td>-27.0</td>\n",
       "      <td>69.56</td>\n",
       "      <td>1022.0</td>\n",
       "      <td>-23.0</td>\n",
       "      <td>9.7744</td>\n",
       "      <td>NaN</td>\n",
       "      <td>NaN</td>\n",
       "    </tr>\n",
       "  </tbody>\n",
       "</table>\n",
       "</div>"
      ],
      "text/plain": [
       "   year  month  day  hour  season  PM  DEWP   HUMI    PRES  TEMP     Iws  \\\n",
       "0  2010      1    1     0       4 NaN -26.0  69.79  1024.0 -22.0  1.0289   \n",
       "1  2010      1    1     1       4 NaN -26.0  76.26  1024.0 -23.0  2.5722   \n",
       "2  2010      1    1     2       4 NaN -27.0  69.56  1023.0 -23.0  5.1444   \n",
       "3  2010      1    1     3       4 NaN -27.0  69.56  1023.0 -23.0  7.7166   \n",
       "4  2010      1    1     4       4 NaN -27.0  69.56  1022.0 -23.0  9.7744   \n",
       "\n",
       "   precipitation  Iprec  \n",
       "0            NaN    NaN  \n",
       "1            NaN    NaN  \n",
       "2            NaN    NaN  \n",
       "3            NaN    NaN  \n",
       "4            NaN    NaN  "
      ]
     },
     "execution_count": 8,
     "metadata": {},
     "output_type": "execute_result"
    }
   ],
   "source": [
    "df_shenyang.head()"
   ]
  },
  {
   "cell_type": "markdown",
   "metadata": {},
   "source": [
    "# Question 1.1.1\n",
    "**To answer this question, I found the maximum and minimum temperature for each city and then subtracted\n",
    "those two values to find the range. Looking at the results, we can see that Shenyang has the largest temperature range at 63\n",
    "degrees Celsius.** "
   ]
  },
  {
   "cell_type": "code",
   "execution_count": 9,
   "metadata": {},
   "outputs": [
    {
     "name": "stdout",
     "output_type": "stream",
     "text": [
      "61.0\n"
     ]
    }
   ],
   "source": [
    "max_beijing = df_beijing['TEMP'].max()\n",
    "min_beijing = df_beijing['TEMP'].min()\n",
    "range_beijing = max_beijing - min_beijing\n",
    "print(range_beijing)"
   ]
  },
  {
   "cell_type": "code",
   "execution_count": 10,
   "metadata": {},
   "outputs": [
    {
     "name": "stdout",
     "output_type": "stream",
     "text": [
      "41.0\n"
     ]
    }
   ],
   "source": [
    "max_chengdu = df_chengdu['TEMP'].max()\n",
    "min_chengdu = df_chengdu['TEMP'].min()\n",
    "range_chengdu = max_chengdu - min_chengdu\n",
    "print(range_chengdu)"
   ]
  },
  {
   "cell_type": "code",
   "execution_count": 11,
   "metadata": {},
   "outputs": [
    {
     "name": "stdout",
     "output_type": "stream",
     "text": [
      "35.700001529999994\n"
     ]
    }
   ],
   "source": [
    "max_guangzhou = df_guangzhou['TEMP'].max()\n",
    "min_guangzhou = df_guangzhou['TEMP'].min()\n",
    "range_guangzhou = max_guangzhou - min_guangzhou\n",
    "print(range_guangzhou)"
   ]
  },
  {
   "cell_type": "code",
   "execution_count": 12,
   "metadata": {},
   "outputs": [
    {
     "name": "stdout",
     "output_type": "stream",
     "text": [
      "46.0\n"
     ]
    }
   ],
   "source": [
    "max_shanghai = df_shanghai['TEMP'].max()\n",
    "min_shanghai = df_shanghai['TEMP'].min()\n",
    "range_shanghai = max_shanghai - min_shanghai\n",
    "print(range_shanghai)"
   ]
  },
  {
   "cell_type": "code",
   "execution_count": 13,
   "metadata": {},
   "outputs": [
    {
     "name": "stdout",
     "output_type": "stream",
     "text": [
      "63.0\n"
     ]
    }
   ],
   "source": [
    "max_shenyang = df_shenyang['TEMP'].max()\n",
    "min_shenyang = df_shenyang['TEMP'].min()\n",
    "range_shenyang = max_shenyang - min_shenyang\n",
    "print(range_shenyang)"
   ]
  },
  {
   "cell_type": "markdown",
   "metadata": {},
   "source": [
    "# Question 1.1.2\n",
    "**To answer this question, I found the median amount of pollution (PM) for each city. I choose to use the median rather than the mean because that data point would be less sensitive to outliers. Looking at the results, we can see that the most pollution was in Beijing at 69 ug/m^3 and the least pollution was in Shanghai at 41 ug/m^3.**  "
   ]
  },
  {
   "cell_type": "code",
   "execution_count": 14,
   "metadata": {},
   "outputs": [
    {
     "name": "stdout",
     "output_type": "stream",
     "text": [
      "69.0\n"
     ]
    }
   ],
   "source": [
    "medianpollution_beijing = df_beijing['PM'].median()\n",
    "print(medianpollution_beijing)"
   ]
  },
  {
   "cell_type": "code",
   "execution_count": 15,
   "metadata": {},
   "outputs": [
    {
     "name": "stdout",
     "output_type": "stream",
     "text": [
      "68.0\n"
     ]
    }
   ],
   "source": [
    "medianpollution_chengdu = df_chengdu['PM'].median()\n",
    "print(medianpollution_chengdu)"
   ]
  },
  {
   "cell_type": "code",
   "execution_count": 16,
   "metadata": {},
   "outputs": [
    {
     "name": "stdout",
     "output_type": "stream",
     "text": [
      "43.0\n"
     ]
    }
   ],
   "source": [
    "medianpollution_guangzhou = df_guangzhou['PM'].median()\n",
    "print(medianpollution_guangzhou)"
   ]
  },
  {
   "cell_type": "code",
   "execution_count": 17,
   "metadata": {},
   "outputs": [
    {
     "name": "stdout",
     "output_type": "stream",
     "text": [
      "41.0\n"
     ]
    }
   ],
   "source": [
    "medianpollution_shanghai = df_shanghai['PM'].median()\n",
    "print(medianpollution_shanghai)"
   ]
  },
  {
   "cell_type": "code",
   "execution_count": 18,
   "metadata": {},
   "outputs": [
    {
     "name": "stdout",
     "output_type": "stream",
     "text": [
      "57.0\n"
     ]
    }
   ],
   "source": [
    "medianpollution_shenyang = df_shenyang['PM'].median()\n",
    "print(medianpollution_shenyang)"
   ]
  },
  {
   "cell_type": "markdown",
   "metadata": {},
   "source": [
    "# Question 1.1.3\n",
    "**To answer this question, I took each city's dataframe and grouped by season and found the average temperature for each season.** "
   ]
  },
  {
   "cell_type": "code",
   "execution_count": 21,
   "metadata": {},
   "outputs": [
    {
     "data": {
      "text/plain": [
       "Spring    14.008455\n",
       "Summer    25.852710\n",
       "Fall      12.623598\n",
       "Winter    -2.434568\n",
       "Name: TEMP, dtype: float64"
      ]
     },
     "execution_count": 21,
     "metadata": {},
     "output_type": "execute_result"
    }
   ],
   "source": [
    "mean_beijing = df_beijing.groupby('season')['TEMP'].mean()\n",
    "mean_beijing.index = ['Spring', 'Summer', 'Fall', 'Winter']\n",
    "mean_beijing"
   ]
  },
  {
   "cell_type": "code",
   "execution_count": 22,
   "metadata": {},
   "outputs": [
    {
     "data": {
      "text/plain": [
       "Spring    18.258194\n",
       "Summer    25.966364\n",
       "Fall      18.356543\n",
       "Winter     8.052331\n",
       "Name: TEMP, dtype: float64"
      ]
     },
     "execution_count": 22,
     "metadata": {},
     "output_type": "execute_result"
    }
   ],
   "source": [
    "mean_chengdu = df_chengdu.groupby('season')['TEMP'].mean()\n",
    "mean_chengdu.index = ['Spring', 'Summer', 'Fall', 'Winter']\n",
    "mean_chengdu"
   ]
  },
  {
   "cell_type": "code",
   "execution_count": 23,
   "metadata": {},
   "outputs": [
    {
     "data": {
      "text/plain": [
       "Spring    21.906167\n",
       "Summer    28.203261\n",
       "Fall      23.635798\n",
       "Winter    14.099237\n",
       "Name: TEMP, dtype: float64"
      ]
     },
     "execution_count": 23,
     "metadata": {},
     "output_type": "execute_result"
    }
   ],
   "source": [
    "mean_guangzhou = df_guangzhou.groupby('season')['TEMP'].mean()\n",
    "mean_guangzhou.index = ['Spring', 'Summer', 'Fall', 'Winter']\n",
    "mean_guangzhou"
   ]
  },
  {
   "cell_type": "code",
   "execution_count": 24,
   "metadata": {},
   "outputs": [
    {
     "data": {
      "text/plain": [
       "Spring    15.982709\n",
       "Summer    27.705798\n",
       "Fall      19.765703\n",
       "Winter     6.227308\n",
       "Name: TEMP, dtype: float64"
      ]
     },
     "execution_count": 24,
     "metadata": {},
     "output_type": "execute_result"
    }
   ],
   "source": [
    "mean_shanghai = df_shanghai.groupby('season')['TEMP'].mean()\n",
    "mean_shanghai.index = ['Spring', 'Summer', 'Fall', 'Winter']\n",
    "mean_shanghai"
   ]
  },
  {
   "cell_type": "code",
   "execution_count": 25,
   "metadata": {},
   "outputs": [
    {
     "data": {
      "text/plain": [
       "Spring     9.456422\n",
       "Summer    23.612061\n",
       "Fall       9.809549\n",
       "Winter    -9.199953\n",
       "Name: TEMP, dtype: float64"
      ]
     },
     "execution_count": 25,
     "metadata": {},
     "output_type": "execute_result"
    }
   ],
   "source": [
    "mean_shenyang = df_shenyang.groupby('season')['TEMP'].mean()\n",
    "mean_shenyang.index = ['Spring', 'Summer', 'Fall', 'Winter']\n",
    "mean_shenyang"
   ]
  },
  {
   "cell_type": "markdown",
   "metadata": {},
   "source": [
    "# Question 1.1.4 - Hottest Summer\n",
    "**To answer this question, for each city I created a subset dataframe that contained all the city data when the value in the season column is 2, which corresponds to summer. I then found the maximum summer temperature for each city. Lookng at the results, the hottest summer(which I defined as the highest single observation of summer temperature) was tied between Beijing and Shanghai at 41 degrees Celsius.** "
   ]
  },
  {
   "cell_type": "code",
   "execution_count": 26,
   "metadata": {},
   "outputs": [
    {
     "data": {
      "text/plain": [
       "41.0"
      ]
     },
     "execution_count": 26,
     "metadata": {},
     "output_type": "execute_result"
    }
   ],
   "source": [
    "df_subset_beijing = df_beijing[df_beijing['season'] == 2]\n",
    "hottest_summer_beijing = df_subset_beijing['TEMP'].max()\n",
    "hottest_summer_beijing"
   ]
  },
  {
   "cell_type": "code",
   "execution_count": 27,
   "metadata": {},
   "outputs": [
    {
     "data": {
      "text/plain": [
       "38.0"
      ]
     },
     "execution_count": 27,
     "metadata": {},
     "output_type": "execute_result"
    }
   ],
   "source": [
    "df_subset_chengdu = df_chengdu[df_chengdu['season'] == 2]\n",
    "hottest_summer_chengdu = df_subset_chengdu['TEMP'].max()\n",
    "hottest_summer_chengdu"
   ]
  },
  {
   "cell_type": "code",
   "execution_count": 28,
   "metadata": {},
   "outputs": [
    {
     "data": {
      "text/plain": [
       "37.40000153"
      ]
     },
     "execution_count": 28,
     "metadata": {},
     "output_type": "execute_result"
    }
   ],
   "source": [
    "df_subset_guangzhou = df_guangzhou[df_guangzhou['season'] == 2]\n",
    "hottest_summer_guangzhou = df_subset_guangzhou['TEMP'].max()\n",
    "hottest_summer_guangzhou"
   ]
  },
  {
   "cell_type": "code",
   "execution_count": 29,
   "metadata": {},
   "outputs": [
    {
     "data": {
      "text/plain": [
       "41.0"
      ]
     },
     "execution_count": 29,
     "metadata": {},
     "output_type": "execute_result"
    }
   ],
   "source": [
    "df_subset_shanghai = df_shanghai[df_shanghai['season'] == 2]\n",
    "hottest_summer_shanghai = df_subset_shanghai['TEMP'].max()\n",
    "hottest_summer_shanghai"
   ]
  },
  {
   "cell_type": "code",
   "execution_count": 30,
   "metadata": {},
   "outputs": [
    {
     "data": {
      "text/plain": [
       "35.0"
      ]
     },
     "execution_count": 30,
     "metadata": {},
     "output_type": "execute_result"
    }
   ],
   "source": [
    "df_subset_shenyang = df_shenyang[df_shenyang['season'] == 2]\n",
    "hottest_summer_shenyang = df_subset_shenyang['TEMP'].max()\n",
    "hottest_summer_shenyang"
   ]
  },
  {
   "cell_type": "markdown",
   "metadata": {},
   "source": [
    "# Question 1.1.4 - Coldest Winter\n",
    "**To answer this question, for each city I created a subset dataframe that contained all the city data when the value in the season column is 4, which corresponds to winter. I then found the minimum winter temperature for each city. Lookng at the results, the coldest winter(which I defined as the lowest single observation of winter temperature) was Shenyang at -28 degrees Celsius.** "
   ]
  },
  {
   "cell_type": "code",
   "execution_count": 31,
   "metadata": {},
   "outputs": [
    {
     "data": {
      "text/plain": [
       "-19.0"
      ]
     },
     "execution_count": 31,
     "metadata": {},
     "output_type": "execute_result"
    }
   ],
   "source": [
    "df_subset_beijing = df_beijing[df_beijing['season'] == 4]\n",
    "coldest_winter_beijing = df_subset_beijing['TEMP'].min()\n",
    "coldest_winter_beijing"
   ]
  },
  {
   "cell_type": "code",
   "execution_count": 32,
   "metadata": {},
   "outputs": [
    {
     "data": {
      "text/plain": [
       "-3.0"
      ]
     },
     "execution_count": 32,
     "metadata": {},
     "output_type": "execute_result"
    }
   ],
   "source": [
    "df_subset_chengdu = df_chengdu[df_chengdu['season'] == 4]\n",
    "coldest_winter_chengdu = df_subset_chengdu['TEMP'].min()\n",
    "coldest_winter_chengdu"
   ]
  },
  {
   "cell_type": "code",
   "execution_count": 33,
   "metadata": {},
   "outputs": [
    {
     "data": {
      "text/plain": [
       "1.7"
      ]
     },
     "execution_count": 33,
     "metadata": {},
     "output_type": "execute_result"
    }
   ],
   "source": [
    "df_subset_guangzhou = df_guangzhou[df_guangzhou['season'] == 4]\n",
    "coldest_winter_guangzhou = df_subset_guangzhou['TEMP'].min()\n",
    "coldest_winter_guangzhou"
   ]
  },
  {
   "cell_type": "code",
   "execution_count": 34,
   "metadata": {},
   "outputs": [
    {
     "data": {
      "text/plain": [
       "-5.0"
      ]
     },
     "execution_count": 34,
     "metadata": {},
     "output_type": "execute_result"
    }
   ],
   "source": [
    "df_subset_shanghai = df_shanghai[df_shanghai['season'] == 4]\n",
    "coldest_winter_shanghai = df_subset_shanghai['TEMP'].min()\n",
    "coldest_winter_shanghai"
   ]
  },
  {
   "cell_type": "code",
   "execution_count": 35,
   "metadata": {},
   "outputs": [
    {
     "data": {
      "text/plain": [
       "-28.0"
      ]
     },
     "execution_count": 35,
     "metadata": {},
     "output_type": "execute_result"
    }
   ],
   "source": [
    "df_subset_shenyang = df_shenyang[df_shenyang['season'] == 4]\n",
    "coldest_winter_shenyang = df_subset_shenyang['TEMP'].min()\n",
    "coldest_winter_shenyang"
   ]
  },
  {
   "cell_type": "markdown",
   "metadata": {},
   "source": [
    "# Question 1.1.5\n",
    "**To answer this question, I took each city's dataframe and used .isna().sum() to see how much missing data was in each column. For all the cities, the feature with the most missing data was PM.** "
   ]
  },
  {
   "cell_type": "code",
   "execution_count": 36,
   "metadata": {},
   "outputs": [
    {
     "data": {
      "text/plain": [
       "year                0\n",
       "month               0\n",
       "day                 0\n",
       "hour                0\n",
       "season              0\n",
       "PM               2197\n",
       "DEWP                5\n",
       "HUMI              339\n",
       "PRES              339\n",
       "TEMP                5\n",
       "Iws                 5\n",
       "precipitation     484\n",
       "Iprec             484\n",
       "dtype: int64"
      ]
     },
     "execution_count": 36,
     "metadata": {},
     "output_type": "execute_result"
    }
   ],
   "source": [
    "df_beijing.isna().sum()"
   ]
  },
  {
   "cell_type": "code",
   "execution_count": 37,
   "metadata": {},
   "outputs": [
    {
     "data": {
      "text/plain": [
       "year                 0\n",
       "month                0\n",
       "day                  0\n",
       "hour                 0\n",
       "season               0\n",
       "PM               23684\n",
       "DEWP               529\n",
       "HUMI               535\n",
       "PRES               521\n",
       "TEMP               527\n",
       "Iws                533\n",
       "precipitation     2955\n",
       "Iprec             2955\n",
       "dtype: int64"
      ]
     },
     "execution_count": 37,
     "metadata": {},
     "output_type": "execute_result"
    }
   ],
   "source": [
    "df_chengdu.isna().sum()"
   ]
  },
  {
   "cell_type": "code",
   "execution_count": 38,
   "metadata": {},
   "outputs": [
    {
     "data": {
      "text/plain": [
       "year                 0\n",
       "month                0\n",
       "day                  0\n",
       "hour                 0\n",
       "season               1\n",
       "PM               20232\n",
       "DEWP                 1\n",
       "HUMI                 1\n",
       "PRES                 1\n",
       "TEMP                 1\n",
       "Iws                  1\n",
       "precipitation        1\n",
       "Iprec                1\n",
       "dtype: int64"
      ]
     },
     "execution_count": 38,
     "metadata": {},
     "output_type": "execute_result"
    }
   ],
   "source": [
    "df_guangzhou.isna().sum()"
   ]
  },
  {
   "cell_type": "code",
   "execution_count": 39,
   "metadata": {},
   "outputs": [
    {
     "data": {
      "text/plain": [
       "year                 0\n",
       "month                0\n",
       "day                  0\n",
       "hour                 0\n",
       "season               0\n",
       "PM               18545\n",
       "DEWP                13\n",
       "HUMI                13\n",
       "PRES                28\n",
       "TEMP                13\n",
       "Iws                 12\n",
       "precipitation     4009\n",
       "Iprec             4009\n",
       "dtype: int64"
      ]
     },
     "execution_count": 39,
     "metadata": {},
     "output_type": "execute_result"
    }
   ],
   "source": [
    "df_shanghai.isna().sum()"
   ]
  },
  {
   "cell_type": "code",
   "execution_count": 40,
   "metadata": {},
   "outputs": [
    {
     "data": {
      "text/plain": [
       "year                 0\n",
       "month                0\n",
       "day                  0\n",
       "hour                 0\n",
       "season               0\n",
       "PM               30904\n",
       "DEWP               692\n",
       "HUMI               680\n",
       "PRES               692\n",
       "TEMP               692\n",
       "Iws                692\n",
       "precipitation    12763\n",
       "Iprec            12763\n",
       "dtype: int64"
      ]
     },
     "execution_count": 40,
     "metadata": {},
     "output_type": "execute_result"
    }
   ],
   "source": [
    "df_shenyang.isna().sum()"
   ]
  },
  {
   "cell_type": "markdown",
   "metadata": {},
   "source": [
    "# Question 1.2.1\n",
    "**From the beginning of the year in January until the middle of the year (around June or July - summer season), the temperatures in Beijing seemed to be steadily increasing, reaching their highest point during the summer months. Afterwards, the temperatures would start steadily decreasing toward the end of the year, reaching their lowest points during the winter months. This same pattern occurred in each of the years shown on the graph.**"
   ]
  },
  {
   "cell_type": "code",
   "execution_count": 41,
   "metadata": {},
   "outputs": [
    {
     "data": {
      "image/png": "[encoded data removed]",
      "text/plain": [
       "<Figure size 720x720 with 1 Axes>"
      ]
     },
     "metadata": {
      "needs_background": "light"
     },
     "output_type": "display_data"
    }
   ],
   "source": [
    "import matplotlib.pyplot as plt\n",
    "plt.rcParams[\"figure.figsize\"] = (10,10)\n",
    "df_beijing.set_index(pd.to_datetime(df_beijing[[\"year\",\"month\",\"day\",\"hour\"]]), inplace=True)\n",
    "plt.plot(df_beijing.index, df_beijing['TEMP'])\n",
    "plt.title('Temperature vs Date, Beijing')\n",
    "plt.xlabel('Date')\n",
    "plt.ylabel('Temperature')\n",
    "plt.show()"
   ]
  },
  {
   "cell_type": "markdown",
   "metadata": {},
   "source": [
    "# Question 1.2.2"
   ]
  },
  {
   "cell_type": "code",
   "execution_count": 42,
   "metadata": {},
   "outputs": [
    {
     "data": {
      "text/plain": [
       "Text(0.5, 1.0, 'Beijing Temperature, by Month')"
      ]
     },
     "execution_count": 42,
     "metadata": {},
     "output_type": "execute_result"
    },
    {
     "data": {
      "image/png": "[encoded data removed]",
      "text/plain": [
       "<Figure size 720x720 with 1 Axes>"
      ]
     },
     "metadata": {
      "needs_background": "light"
     },
     "output_type": "display_data"
    }
   ],
   "source": [
    "import seaborn as sns\n",
    "sns.boxplot(x=\"month\", y=\"TEMP\", data=df_beijing).set_title('Beijing Temperature, by Month')"
   ]
  },
  {
   "cell_type": "markdown",
   "metadata": {},
   "source": [
    "# Question 1.2.3\n",
    "**I created a scatter plot using the features PM and Humidity. Based on the visualization, there is no clear correlation between Humidity and PM.**"
   ]
  },
  {
   "cell_type": "code",
   "execution_count": 43,
   "metadata": {},
   "outputs": [
    {
     "data": {
      "image/png": "[encoded data removed]",
      "text/plain": [
       "<Figure size 720x720 with 1 Axes>"
      ]
     },
     "metadata": {
      "needs_background": "light"
     },
     "output_type": "display_data"
    }
   ],
   "source": [
    "plt.scatter(df_beijing['HUMI'], df_beijing['PM'])\n",
    "plt.title('PM vs Humidity for Beijing')\n",
    "plt.xlabel('Humidity')\n",
    "plt.ylabel('PM')\n",
    "plt.show()"
   ]
  },
  {
   "cell_type": "markdown",
   "metadata": {},
   "source": [
    "# Question 1.2.4\n",
    "**I calculated the average PM value for each year for each of the 5 Chinese cities and plotted those values in a line graph.**"
   ]
  },
  {
   "cell_type": "code",
   "execution_count": 44,
   "metadata": {},
   "outputs": [
    {
     "data": {
      "image/png": "[encoded data removed]",
      "text/plain": [
       "<Figure size 720x720 with 1 Axes>"
      ]
     },
     "metadata": {
      "needs_background": "light"
     },
     "output_type": "display_data"
    }
   ],
   "source": [
    "a = df_beijing.groupby('year')['PM'].mean()\n",
    "b = df_chengdu.groupby('year')['PM'].mean()\n",
    "c = df_guangzhou.groupby('year')['PM'].mean()\n",
    "d = df_shanghai.groupby('year')['PM'].mean()\n",
    "e = df_shenyang.groupby('year')['PM'].mean()\n",
    "plt.title('Average PM Value for Each Chinese City, by Year')\n",
    "plt.xlabel('year')\n",
    "plt.ylabel('Average PM')\n",
    "plt.plot(a.index, a.values, label = 'Beijing')\n",
    "plt.plot(b.index, b.values, label = 'Chengdu')\n",
    "plt.plot(c.index, c.values, label = 'Guangzhou')\n",
    "plt.plot(d.index, d.values, label = 'Shanghai')\n",
    "plt.plot(e.index, e.values, label = 'Shenyang')\n",
    "plt.legend()\n",
    "plt.show()"
   ]
  },
  {
   "cell_type": "markdown",
   "metadata": {},
   "source": [
    "# Question 1.3.1"
   ]
  },
  {
   "cell_type": "code",
   "execution_count": 45,
   "metadata": {},
   "outputs": [
    {
     "data": {
      "text/plain": [
       "0.26950638719252284"
      ]
     },
     "execution_count": 45,
     "metadata": {},
     "output_type": "execute_result"
    }
   ],
   "source": [
    "from sklearn.linear_model import LinearRegression\n",
    "from sklearn.model_selection import train_test_split\n",
    "from sklearn.metrics import r2_score\n",
    "df_beijing = df_beijing.dropna()\n",
    "y = df_beijing[\"PM\"]\n",
    "X = df_beijing.drop([\"PM\"], axis=1)\n",
    "X_train, X_test, y_train, y_test = train_test_split(X, y, test_size=0.3, random_state=42)\n",
    "LR = LinearRegression()\n",
    "LR.fit(X_train, y_train)\n",
    "prediction = LR.predict(X_test)\n",
    "r2_score(y_test, prediction)"
   ]
  },
  {
   "cell_type": "code",
   "execution_count": 46,
   "metadata": {},
   "outputs": [
    {
     "data": {
      "text/plain": [
       "0.27412462852835184"
      ]
     },
     "execution_count": 46,
     "metadata": {},
     "output_type": "execute_result"
    }
   ],
   "source": [
    "df_chengdu = df_chengdu.dropna()\n",
    "y = df_chengdu['PM']\n",
    "X = df_chengdu.drop(['PM'], axis=1)\n",
    "X_train, X_test, y_train, y_test = train_test_split(X, y, test_size=0.3, random_state=42)\n",
    "LR.fit(X_train, y_train)\n",
    "prediction = LR.predict(X_test)\n",
    "r2_score(y_test, prediction)"
   ]
  },
  {
   "cell_type": "code",
   "execution_count": 47,
   "metadata": {},
   "outputs": [
    {
     "data": {
      "text/plain": [
       "0.14467127942864733"
      ]
     },
     "execution_count": 47,
     "metadata": {},
     "output_type": "execute_result"
    }
   ],
   "source": [
    "df_guangzhou = df_guangzhou.dropna()\n",
    "y = df_guangzhou['PM']\n",
    "X = df_guangzhou.drop(['PM'], axis=1)\n",
    "X_train, X_test, y_train, y_test = train_test_split(X, y, test_size=0.3, random_state=42)\n",
    "LR.fit(X_train, y_train)\n",
    "prediction = LR.predict(X_test)\n",
    "r2_score(y_test, prediction)"
   ]
  },
  {
   "cell_type": "code",
   "execution_count": 48,
   "metadata": {},
   "outputs": [
    {
     "data": {
      "text/plain": [
       "0.1718142013741748"
      ]
     },
     "execution_count": 48,
     "metadata": {},
     "output_type": "execute_result"
    }
   ],
   "source": [
    "df_shanghai = df_shanghai.dropna()\n",
    "y = df_shanghai['PM']\n",
    "X = df_shanghai.drop(['PM'], axis=1)\n",
    "X_train, X_test, y_train, y_test = train_test_split(X, y, test_size=0.3, random_state=42)\n",
    "LR.fit(X_train, y_train)\n",
    "prediction = LR.predict(X_test)\n",
    "r2_score(y_test, prediction)"
   ]
  },
  {
   "cell_type": "code",
   "execution_count": 49,
   "metadata": {},
   "outputs": [
    {
     "data": {
      "text/plain": [
       "0.21522311748622358"
      ]
     },
     "execution_count": 49,
     "metadata": {},
     "output_type": "execute_result"
    }
   ],
   "source": [
    "df_shenyang = df_shenyang.dropna()\n",
    "y = df_shenyang['PM']\n",
    "X = df_shenyang.drop(['PM'], axis=1)\n",
    "X_train, X_test, y_train, y_test = train_test_split(X, y, test_size=0.3, random_state=42)\n",
    "LR.fit(X_train, y_train)\n",
    "prediction = LR.predict(X_test)\n",
    "r2_score(y_test, prediction)"
   ]
  },
  {
   "cell_type": "markdown",
   "metadata": {},
   "source": [
    "# Questioin 1.3.2\n",
    "**This model is being trained on the Beijing dataset and used for the Shanghai dataset. Using this method, the r2_score becomes much lower than when we used data from the same city for both training and testing. In fact, the r2_score became negative (-1.51 approximately). This indicates that the data for the two cities are so different that the Beijing model cannot make accurate predictions on the Shanghai data and thus the model suffers from very bad performance.** "
   ]
  },
  {
   "cell_type": "code",
   "execution_count": 50,
   "metadata": {},
   "outputs": [
    {
     "data": {
      "text/plain": [
       "-1.5097677032177805"
      ]
     },
     "execution_count": 50,
     "metadata": {},
     "output_type": "execute_result"
    }
   ],
   "source": [
    "y = df_beijing['PM']\n",
    "X = df_beijing.drop(['PM'], axis=1)\n",
    "b = df_shanghai['PM']\n",
    "A = df_shanghai.drop(['PM'], axis=1)\n",
    "X_train, X_test, y_train, y_test = train_test_split(X, y, test_size=0.3, random_state=42)\n",
    "A_train, A_test, b_train, b_test = train_test_split(A, b, test_size=0.3, random_state=42)\n",
    "LR.fit(X_train, y_train)\n",
    "prediction = LR.predict(A_test)\n",
    "r2_score(b_test, prediction)"
   ]
  },
  {
   "cell_type": "markdown",
   "metadata": {},
   "source": [
    "# Question 1.3.3\n",
    "**I trained and evaluated a linear regression model to predict the value of TEMP in Beijing. The r-squared value ended up being about 0.97. This r-squared value is higher than the r-squared value when training and evaluating linear regression models to predict values of other features such as PRES, Iws, and precipitation. Thus, it seems easier to predict the TEMP column and I think that is because temperature values are more correlated/dependent on the values of the other features in the dataset. The other features seem to be missing some other variables in the dataset that might be more important in predicting their value (i.e. one thing that can affect pressure or PRES is the elevation above sea level of the city, which is not included in the dataset).**  "
   ]
  },
  {
   "cell_type": "code",
   "execution_count": 276,
   "metadata": {},
   "outputs": [
    {
     "data": {
      "text/plain": [
       "0.9683004265761639"
      ]
     },
     "execution_count": 276,
     "metadata": {},
     "output_type": "execute_result"
    }
   ],
   "source": [
    "y = df_beijing[\"TEMP\"]\n",
    "X = df_beijing.drop([\"TEMP\"], axis=1)\n",
    "X_train, X_test, y_train, y_test = train_test_split(X, y, test_size=0.3, random_state=42)\n",
    "LR = LinearRegression()\n",
    "LR.fit(X_train, y_train)\n",
    "prediction = LR.predict(X_test)\n",
    "r2_score(y_test, prediction)"
   ]
  },
  {
   "cell_type": "code",
   "execution_count": 278,
   "metadata": {},
   "outputs": [
    {
     "data": {
      "text/plain": [
       "0.7379924091195684"
      ]
     },
     "execution_count": 278,
     "metadata": {},
     "output_type": "execute_result"
    }
   ],
   "source": [
    "y = df_beijing[\"PRES\"]\n",
    "X = df_beijing.drop([\"PRES\"], axis=1)\n",
    "X_train, X_test, y_train, y_test = train_test_split(X, y, test_size=0.3, random_state=42)\n",
    "LR = LinearRegression()\n",
    "LR.fit(X_train, y_train)\n",
    "prediction = LR.predict(X_test)\n",
    "r2_score(y_test, prediction)"
   ]
  },
  {
   "cell_type": "code",
   "execution_count": 280,
   "metadata": {},
   "outputs": [
    {
     "data": {
      "text/plain": [
       "0.1568972871796126"
      ]
     },
     "execution_count": 280,
     "metadata": {},
     "output_type": "execute_result"
    }
   ],
   "source": [
    "y = df_beijing[\"Iws\"]\n",
    "X = df_beijing.drop([\"Iws\"], axis=1)\n",
    "X_train, X_test, y_train, y_test = train_test_split(X, y, test_size=0.3, random_state=42)\n",
    "LR = LinearRegression()\n",
    "LR.fit(X_train, y_train)\n",
    "prediction = LR.predict(X_test)\n",
    "r2_score(y_test, prediction)"
   ]
  },
  {
   "cell_type": "code",
   "execution_count": 282,
   "metadata": {},
   "outputs": [
    {
     "data": {
      "text/plain": [
       "0.28398728921132443"
      ]
     },
     "execution_count": 282,
     "metadata": {},
     "output_type": "execute_result"
    }
   ],
   "source": [
    "y = df_beijing[\"precipitation\"]\n",
    "X = df_beijing.drop([\"precipitation\"], axis=1)\n",
    "X_train, X_test, y_train, y_test = train_test_split(X, y, test_size=0.3, random_state=42)\n",
    "LR = LinearRegression()\n",
    "LR.fit(X_train, y_train)\n",
    "prediction = LR.predict(X_test)\n",
    "r2_score(y_test, prediction)"
   ]
  },
  {
   "cell_type": "markdown",
   "metadata": {},
   "source": [
    "# Question 1.4\n",
    "**If I had to choose one city to make my next home, I would choose Guangzhou. The biggest reason for that decision would be the weather. In analyzing the temperature ranges for each city, we see that Guangzhou has the lowest range. This suggests that the weather there is fairly more consistent and there are not drastic seasonal changes. I prefer this consistency rather than experiencing all four seasons. Additionally, when looking at the average temperatures for each city during each season, we see that Guangzhou has by far the warmest winter temperatures (almost double of the next closest city). As someone who has previously lived in areas with severe Winters, I would prefer not to go through that again (shoveling snow, getting new wardrobe, etc. is annoying). Looking at the second bar graph, we see that Guangzhou is also the warmest city at each season, which I find more comfortable. Furthermore, pollution is also important to me and Guangzhou has the second lowest median PM concentration and looking at the visualization made for Question 1.2.4 on the average PM values over the years in each city, it looks like Guangzhou's PM values are more consistently going down over the years to a very low level while the other cities' PM values seem to be more up and down over the years. The relative lack of pollution is important for my health and my families' health (some have asthma). Overall, Guangzhou provides the best of both worlds: warm weather and low pollution.**    "
   ]
  },
  {
   "cell_type": "code",
   "execution_count": 57,
   "metadata": {},
   "outputs": [
    {
     "data": {
      "image/png": "[encoded data removed]",
      "text/plain": [
       "<Figure size 720x720 with 1 Axes>"
      ]
     },
     "metadata": {
      "needs_background": "light"
     },
     "output_type": "display_data"
    }
   ],
   "source": [
    "cities = [\"Beijing\", \"Chengdu\", \"Guangzhou\", \"Shanghai\", \"Shenyang\"]\n",
    "temp_ranges = [range_beijing, range_chengdu, range_guangzhou, range_shanghai, range_shenyang]\n",
    "plt.bar(cities, temp_ranges)\n",
    "plt.ylabel(\"Temperature Range\")\n",
    "plt.title(\"Temperature Range for Each City\")\n",
    "plt.show()"
   ]
  },
  {
   "cell_type": "code",
   "execution_count": 69,
   "metadata": {},
   "outputs": [
    {
     "data": {
      "text/plain": [
       "Text(0, 0.5, 'Average Temperature')"
      ]
     },
     "execution_count": 69,
     "metadata": {},
     "output_type": "execute_result"
    },
    {
     "data": {
      "image/png": "[encoded data removed]",
      "text/plain": [
       "<Figure size 720x720 with 1 Axes>"
      ]
     },
     "metadata": {
      "needs_background": "light"
     },
     "output_type": "display_data"
    }
   ],
   "source": [
    "season_data = pd.DataFrame({\n",
    "    \"Spring\":[mean_beijing['Spring'], mean_chengdu['Spring'], mean_guangzhou['Spring'], mean_shanghai['Spring'], \n",
    "              mean_shenyang['Spring']],\n",
    "    \"Summer\":[mean_beijing['Summer'], mean_chengdu['Summer'], mean_guangzhou['Summer'], mean_shanghai['Summer'], \n",
    "              mean_shenyang['Summer']],\n",
    "    \"Fall\":[mean_beijing['Fall'], mean_chengdu['Fall'], mean_guangzhou['Fall'], mean_shanghai['Fall'], \n",
    "            mean_shenyang['Fall']],\n",
    "    \"Winter\":[mean_beijing['Winter'], mean_chengdu['Winter'], mean_guangzhou['Winter'], mean_shanghai['Winter'], \n",
    "              mean_shenyang['Winter']]\n",
    "    }, \n",
    "    index=[\"Beijing\", \"Chengdu\", \"Guangzhou\", \"Shanghai\", \"Shenyang\"]\n",
    ")\n",
    "season_data.plot(kind='bar', alpha=0.75, rot=0)\n",
    "plt.title(\"Average Temperature for Each Season\")\n",
    "plt.ylabel(\"Average Temperature\")"
   ]
  },
  {
   "cell_type": "code",
   "execution_count": 70,
   "metadata": {},
   "outputs": [
    {
     "data": {
      "image/png": "[encoded data removed]",
      "text/plain": [
       "<Figure size 720x720 with 1 Axes>"
      ]
     },
     "metadata": {
      "needs_background": "light"
     },
     "output_type": "display_data"
    }
   ],
   "source": [
    "cities = [\"Beijing\", \"Chengdu\", \"Guangzhou\", \"Shanghai\", \"Shenyang\"]\n",
    "medianpollution = [medianpollution_beijing, medianpollution_chengdu, medianpollution_guangzhou, medianpollution_shanghai, \n",
    "                   medianpollution_shenyang]\n",
    "plt.bar(cities, medianpollution)\n",
    "plt.ylabel(\"Median PM Concentration\")\n",
    "plt.title(\"Median Pollution Values for Each City\")\n",
    "plt.show()"
   ]
  },
  {
   "cell_type": "code",
   "execution_count": 71,
   "metadata": {},
   "outputs": [
    {
     "data": {
      "image/png": "[encoded data removed]",
      "text/plain": [
       "<Figure size 720x720 with 1 Axes>"
      ]
     },
     "metadata": {
      "needs_background": "light"
     },
     "output_type": "display_data"
    }
   ],
   "source": [
    "a = df_beijing.groupby('year')['PM'].mean()\n",
    "b = df_chengdu.groupby('year')['PM'].mean()\n",
    "c = df_guangzhou.groupby('year')['PM'].mean()\n",
    "d = df_shanghai.groupby('year')['PM'].mean()\n",
    "e = df_shenyang.groupby('year')['PM'].mean()\n",
    "plt.title('Average PM Value for Each Chinese City, by Year')\n",
    "plt.xlabel('year')\n",
    "plt.ylabel('Average PM')\n",
    "plt.plot(a.index, a.values, label = 'Beijing')\n",
    "plt.plot(b.index, b.values, label = 'Chengdu')\n",
    "plt.plot(c.index, c.values, label = 'Guangzhou')\n",
    "plt.plot(d.index, d.values, label = 'Shanghai')\n",
    "plt.plot(e.index, e.values, label = 'Shenyang')\n",
    "plt.legend()\n",
    "plt.show()"
   ]
  },
  {
   "cell_type": "code",
   "execution_count": null,
   "metadata": {},
   "outputs": [],
   "source": []
  }
 ],
 "metadata": {
  "kernelspec": {
   "display_name": "Python 3",
   "language": "python",
   "name": "python3"
  },
  "language_info": {
   "codemirror_mode": {
    "name": "ipython",
    "version": 3
   },
   "file_extension": ".py",
   "mimetype": "text/x-python",
   "name": "python",
   "nbconvert_exporter": "python",
   "pygments_lexer": "ipython3",
   "version": "3.7.1"
  }
 },
 "nbformat": 4,
 "nbformat_minor": 5
}

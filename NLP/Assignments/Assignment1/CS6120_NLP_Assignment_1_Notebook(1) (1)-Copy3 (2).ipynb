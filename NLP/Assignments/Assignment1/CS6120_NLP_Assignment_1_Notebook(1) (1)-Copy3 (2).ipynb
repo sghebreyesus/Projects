{
 "cells": [
  {
   "cell_type": "markdown",
   "id": "bc97d6da",
   "metadata": {
    "id": "bc97d6da"
   },
   "source": [
    "## CS 6120: Natural Language Processing - Prof. Ahmad Uzair\n",
    "\n",
    "### Assignment 1: Naive Bayes\n",
    "### Total Points: 100 points\n",
    "\n",
    "You will be dealing with movie review data that includes both positive and negative reviews in this assignment. You will use Sentiment Analysis to assess if a given review is positive or negative using the provided dataset.\n",
    "\n",
    "Therefore, we will make use of Naive Bayes algorithm to perform sentiment analysis on the movie review dataset.\n",
    "\n",
    "## Importing the Libraries"
   ]
  },
  {
   "cell_type": "code",
   "execution_count": 1,
   "id": "a03450ac",
   "metadata": {
    "id": "a03450ac"
   },
   "outputs": [],
   "source": [
    "import numpy as np\n",
    "import math\n",
    "import pandas as pd\n",
    "import re\n",
    "import nltk\n",
    "from nltk.corpus import stopwords\n",
    "from nltk.stem import PorterStemmer\n",
    "from nltk.tokenize import word_tokenize\n",
    "import warnings\n",
    "import seaborn as sns\n",
    "import matplotlib.pyplot as plt\n",
    "warnings.filterwarnings(\"ignore\")"
   ]
  },
  {
   "cell_type": "markdown",
   "id": "fc584cc2",
   "metadata": {
    "id": "fc584cc2"
   },
   "source": [
    "## Reading the data\n",
    "\n",
    "When reading the data, ensure that the '.csv' file is in the same location where your jupyter notebook is used. This way the files are organized and easy to read using the pandas library. "
   ]
  },
  {
   "cell_type": "code",
   "execution_count": 2,
   "id": "3c9ffbf5",
   "metadata": {
    "id": "3c9ffbf5"
   },
   "outputs": [
    {
     "data": {
      "text/html": [
       "<div>\n",
       "<style scoped>\n",
       "    .dataframe tbody tr th:only-of-type {\n",
       "        vertical-align: middle;\n",
       "    }\n",
       "\n",
       "    .dataframe tbody tr th {\n",
       "        vertical-align: top;\n",
       "    }\n",
       "\n",
       "    .dataframe thead th {\n",
       "        text-align: right;\n",
       "    }\n",
       "</style>\n",
       "<table border=\"1\" class=\"dataframe\">\n",
       "  <thead>\n",
       "    <tr style=\"text-align: right;\">\n",
       "      <th></th>\n",
       "      <th>review</th>\n",
       "      <th>sentiment</th>\n",
       "    </tr>\n",
       "  </thead>\n",
       "  <tbody>\n",
       "    <tr>\n",
       "      <th>0</th>\n",
       "      <td>One of the other reviewers has mentioned that ...</td>\n",
       "      <td>positive</td>\n",
       "    </tr>\n",
       "    <tr>\n",
       "      <th>1</th>\n",
       "      <td>A wonderful little production. &lt;br /&gt;&lt;br /&gt;The...</td>\n",
       "      <td>positive</td>\n",
       "    </tr>\n",
       "    <tr>\n",
       "      <th>2</th>\n",
       "      <td>I thought this was a wonderful way to spend ti...</td>\n",
       "      <td>positive</td>\n",
       "    </tr>\n",
       "    <tr>\n",
       "      <th>3</th>\n",
       "      <td>Petter Mattei's \"Love in the Time of Money\" is...</td>\n",
       "      <td>positive</td>\n",
       "    </tr>\n",
       "    <tr>\n",
       "      <th>4</th>\n",
       "      <td>Probably my all-time favorite movie, a story o...</td>\n",
       "      <td>positive</td>\n",
       "    </tr>\n",
       "    <tr>\n",
       "      <th>...</th>\n",
       "      <td>...</td>\n",
       "      <td>...</td>\n",
       "    </tr>\n",
       "    <tr>\n",
       "      <th>24694</th>\n",
       "      <td>I have seen this movie at the cinema many year...</td>\n",
       "      <td>negative</td>\n",
       "    </tr>\n",
       "    <tr>\n",
       "      <th>24695</th>\n",
       "      <td>This movie was a real torture fest to sit thro...</td>\n",
       "      <td>negative</td>\n",
       "    </tr>\n",
       "    <tr>\n",
       "      <th>24696</th>\n",
       "      <td>John Wayne &amp; Albert Dekker compete for oil rig...</td>\n",
       "      <td>negative</td>\n",
       "    </tr>\n",
       "    <tr>\n",
       "      <th>24697</th>\n",
       "      <td>Tarantino once remarked on a melodrama from th...</td>\n",
       "      <td>positive</td>\n",
       "    </tr>\n",
       "    <tr>\n",
       "      <th>24698</th>\n",
       "      <td>Aah yes the workout show was a great. Not only...</td>\n",
       "      <td>positive</td>\n",
       "    </tr>\n",
       "  </tbody>\n",
       "</table>\n",
       "<p>24699 rows × 2 columns</p>\n",
       "</div>"
      ],
      "text/plain": [
       "                                                  review sentiment\n",
       "0      One of the other reviewers has mentioned that ...  positive\n",
       "1      A wonderful little production. <br /><br />The...  positive\n",
       "2      I thought this was a wonderful way to spend ti...  positive\n",
       "3      Petter Mattei's \"Love in the Time of Money\" is...  positive\n",
       "4      Probably my all-time favorite movie, a story o...  positive\n",
       "...                                                  ...       ...\n",
       "24694  I have seen this movie at the cinema many year...  negative\n",
       "24695  This movie was a real torture fest to sit thro...  negative\n",
       "24696  John Wayne & Albert Dekker compete for oil rig...  negative\n",
       "24697  Tarantino once remarked on a melodrama from th...  positive\n",
       "24698  Aah yes the workout show was a great. Not only...  positive\n",
       "\n",
       "[24699 rows x 2 columns]"
      ]
     },
     "execution_count": 2,
     "metadata": {},
     "output_type": "execute_result"
    }
   ],
   "source": [
    "## Reading the data and removing columns that are not important. \n",
    "df = pd.read_csv(\"C:/Users/sgheb/Downloads/movie_reviews-1.csv\", sep = ',', encoding = 'latin-1', usecols = lambda col: col not in [\"Unnamed: 2\", \"Unnamed: 3\", \"Unnamed: 4\"])\n",
    "df"
   ]
  },
  {
   "cell_type": "code",
   "execution_count": 3,
   "id": "f7fa8ac0",
   "metadata": {
    "colab": {
     "base_uri": "https://localhost:8080/",
     "height": 206
    },
    "id": "f7fa8ac0",
    "outputId": "69edaf28-1e2e-4ec7-9530-b30a2853ab9e"
   },
   "outputs": [
    {
     "data": {
      "text/html": [
       "<div>\n",
       "<style scoped>\n",
       "    .dataframe tbody tr th:only-of-type {\n",
       "        vertical-align: middle;\n",
       "    }\n",
       "\n",
       "    .dataframe tbody tr th {\n",
       "        vertical-align: top;\n",
       "    }\n",
       "\n",
       "    .dataframe thead th {\n",
       "        text-align: right;\n",
       "    }\n",
       "</style>\n",
       "<table border=\"1\" class=\"dataframe\">\n",
       "  <thead>\n",
       "    <tr style=\"text-align: right;\">\n",
       "      <th></th>\n",
       "      <th>review</th>\n",
       "      <th>sentiment</th>\n",
       "    </tr>\n",
       "  </thead>\n",
       "  <tbody>\n",
       "    <tr>\n",
       "      <th>0</th>\n",
       "      <td>One of the other reviewers has mentioned that ...</td>\n",
       "      <td>positive</td>\n",
       "    </tr>\n",
       "    <tr>\n",
       "      <th>1</th>\n",
       "      <td>A wonderful little production. &lt;br /&gt;&lt;br /&gt;The...</td>\n",
       "      <td>positive</td>\n",
       "    </tr>\n",
       "    <tr>\n",
       "      <th>2</th>\n",
       "      <td>I thought this was a wonderful way to spend ti...</td>\n",
       "      <td>positive</td>\n",
       "    </tr>\n",
       "    <tr>\n",
       "      <th>3</th>\n",
       "      <td>Petter Mattei's \"Love in the Time of Money\" is...</td>\n",
       "      <td>positive</td>\n",
       "    </tr>\n",
       "    <tr>\n",
       "      <th>4</th>\n",
       "      <td>Probably my all-time favorite movie, a story o...</td>\n",
       "      <td>positive</td>\n",
       "    </tr>\n",
       "  </tbody>\n",
       "</table>\n",
       "</div>"
      ],
      "text/plain": [
       "                                              review sentiment\n",
       "0  One of the other reviewers has mentioned that ...  positive\n",
       "1  A wonderful little production. <br /><br />The...  positive\n",
       "2  I thought this was a wonderful way to spend ti...  positive\n",
       "3  Petter Mattei's \"Love in the Time of Money\" is...  positive\n",
       "4  Probably my all-time favorite movie, a story o...  positive"
      ]
     },
     "execution_count": 3,
     "metadata": {},
     "output_type": "execute_result"
    }
   ],
   "source": [
    "df.head()  # print head of data frame with help of head function"
   ]
  },
  {
   "cell_type": "markdown",
   "id": "1749da04",
   "metadata": {
    "id": "1749da04"
   },
   "source": [
    "## Count plot of the output categories: positive or negative\n",
    "\n",
    "Feel free to take a look at the output and whether the classes are balanced or imbalanced. "
   ]
  },
  {
   "cell_type": "code",
   "execution_count": 4,
   "id": "c152e8a4",
   "metadata": {
    "colab": {
     "base_uri": "https://localhost:8080/",
     "height": 515
    },
    "id": "c152e8a4",
    "outputId": "a2ba0476-3238-4511-fcf0-780508493f48"
   },
   "outputs": [
    {
     "data": {
      "image/png": "[encoded data removed]",
      "text/plain": [
       "<Figure size 640x480 with 1 Axes>"
      ]
     },
     "metadata": {},
     "output_type": "display_data"
    }
   ],
   "source": [
    "plt.figure(figsize = None)\n",
    "sns.countplot(x = 'sentiment', data=df)\n",
    "plt.title(\"Positive Vs. Negative reviews count\", fontsize = 15)\n",
    "plt.show()"
   ]
  },
  {
   "cell_type": "markdown",
   "id": "9b8549f2",
   "metadata": {
    "id": "9b8549f2"
   },
   "source": [
    "## Upsampling the minority class: (5 points)\n",
    "\n",
    "It is known that Naive bayes is not robust to class imbalance. It could be seen above that the data is little imbalanced. Therefore, class balancing can be done before giving it to the Naive Bayes model for prediction. \n",
    "\n",
    "Feel free to use 'resample' library from sklearn. "
   ]
  },
  {
   "cell_type": "code",
   "execution_count": 5,
   "id": "yHJTAqrW7XMN",
   "metadata": {
    "id": "yHJTAqrW7XMN"
   },
   "outputs": [],
   "source": [
    "## hint: use resample from sklearn.utils\n",
    "from sklearn.utils import resample\n",
    "\n",
    "df_majority = df[df['sentiment']=='positive']\n",
    "df_minority = df[df['sentiment']=='negative']\n",
    "\n",
    "negative_upsample = resample(df_minority, replace = True, \n",
    "                        n_samples = df_majority.shape[0],\n",
    "                        random_state = 101)\n",
    "\n",
    "df_upsampled = pd.concat([df_majority, negative_upsample])  # concat two data frames i,e majority class data set and upsampled minority class data set\n",
    "df_upsampled = df_upsampled.sample(frac = 1)"
   ]
  },
  {
   "cell_type": "code",
   "execution_count": 6,
   "id": "6a9329bb",
   "metadata": {
    "id": "6a9329bb"
   },
   "outputs": [
    {
     "data": {
      "text/plain": [
       "(12474, 2)"
      ]
     },
     "execution_count": 6,
     "metadata": {},
     "output_type": "execute_result"
    }
   ],
   "source": [
    "## Just to ensure that upsampling was done successfully, take a look at the shape of the data in \n",
    "## this cell. \n",
    "\n",
    "# print the shape of data set with the help of shape function having \"negative\" as class label\n",
    "df_upsampled_negative = df_upsampled[df_upsampled['sentiment']=='negative']\n",
    "df_upsampled_negative.shape"
   ]
  },
  {
   "cell_type": "markdown",
   "id": "6f8bf6e7",
   "metadata": {
    "id": "6f8bf6e7"
   },
   "source": [
    "### Expected Output : \n",
    "(12474, 2)"
   ]
  },
  {
   "cell_type": "code",
   "execution_count": 7,
   "id": "bdea8155",
   "metadata": {
    "colab": {
     "base_uri": "https://localhost:8080/"
    },
    "id": "bdea8155",
    "outputId": "c665c4b9-826e-4f4e-e30e-06e0935a0622"
   },
   "outputs": [
    {
     "data": {
      "text/plain": [
       "(12474, 2)"
      ]
     },
     "execution_count": 7,
     "metadata": {},
     "output_type": "execute_result"
    }
   ],
   "source": [
    "## Ensure that the same number of data points are present for both 'positive' and 'negative' data\n",
    "\n",
    "# print the shape of data set with the help of shape function having \"positive\" as class label\n",
    "df_upsampled_positive = df_upsampled[df_upsampled['sentiment']=='positive']\n",
    "df_upsampled_positive.shape"
   ]
  },
  {
   "cell_type": "markdown",
   "id": "626f01d5",
   "metadata": {
    "id": "626f01d5"
   },
   "source": [
    "### Expected Output : \n",
    "(12474, 2)"
   ]
  },
  {
   "cell_type": "code",
   "execution_count": 8,
   "id": "NoW5z6SzAeP8",
   "metadata": {
    "id": "NoW5z6SzAeP8"
   },
   "outputs": [],
   "source": [
    "## In this cell, we are going to be dividing the data into train and test points\n",
    "## Ensure that you store the upsampled data in a variable called 'df_upsampled' \n",
    "## so that the below operations are performed successfully\n",
    "\n",
    "\n",
    "## Considering 10000 positive and 10000 negative data points\n",
    "negative_data_points_train = df_upsampled[df_upsampled['sentiment']=='negative'].iloc[:10000]\n",
    "positive_data_points_train = df_upsampled[df_upsampled['sentiment']=='positive'].iloc[:10000]\n",
    "\n",
    "## Considering the remaining data points for test\n",
    "negative_data_points_test = df_upsampled[df_upsampled['sentiment']=='negative'].iloc[10000:]\n",
    "positive_data_points_test = df_upsampled[df_upsampled['sentiment']=='positive'].iloc[10000:]\n",
    "\n",
    "## Concatenate the training positive and negative reviews\n",
    "X_train = pd.concat([negative_data_points_train['review'], positive_data_points_train['review']])\n",
    "## Concatenating the training positive and negative outputs\n",
    "y_train = pd.concat([negative_data_points_train['sentiment'], positive_data_points_train['sentiment']])\n",
    "\n",
    "## Concatenating the test positive and negative reviews\n",
    "X_test = pd.concat([negative_data_points_test['review'], positive_data_points_test['review']])\n",
    "## Concatenating the test positive and negative outputs\n",
    "y_test = pd.concat([negative_data_points_test['sentiment'], positive_data_points_test['sentiment']])"
   ]
  },
  {
   "cell_type": "code",
   "execution_count": 9,
   "id": "6428047d",
   "metadata": {
    "colab": {
     "base_uri": "https://localhost:8080/"
    },
    "id": "6428047d",
    "outputId": "10d10601-0ce0-4688-c4d3-75fa386583fd"
   },
   "outputs": [
    {
     "name": "stdout",
     "output_type": "stream",
     "text": [
      "negative    10000\n",
      "positive    10000\n",
      "Name: sentiment, dtype: int64\n"
     ]
    }
   ],
   "source": [
    "## Take a look at the total number of classes and their count using '.value_counts()' for y_train and y_test.\n",
    "## Ensure that there are equal number of positive and negative reviews.\n",
    "print(y_train.value_counts())"
   ]
  },
  {
   "cell_type": "markdown",
   "id": "7dfe6517",
   "metadata": {
    "id": "7dfe6517"
   },
   "source": [
    "### Expected Output:\n",
    "negative    10000<br>\n",
    "positive    10000<br>\n",
    "Name: sentiment, dtype: int64"
   ]
  },
  {
   "cell_type": "code",
   "execution_count": 10,
   "id": "2beae1d6",
   "metadata": {
    "colab": {
     "base_uri": "https://localhost:8080/"
    },
    "id": "2beae1d6",
    "outputId": "6896f930-6a1a-45db-b74c-d080c9aedd0c"
   },
   "outputs": [
    {
     "name": "stdout",
     "output_type": "stream",
     "text": [
      "negative    2474\n",
      "positive    2474\n",
      "Name: sentiment, dtype: int64\n"
     ]
    }
   ],
   "source": [
    "print(y_test.value_counts())"
   ]
  },
  {
   "cell_type": "markdown",
   "id": "9163f897",
   "metadata": {
    "id": "9163f897"
   },
   "source": [
    "### Expected Output : \n",
    "negative    2474<br>\n",
    "positive    2474<br>\n",
    "Name: sentiment, dtype: int64"
   ]
  },
  {
   "cell_type": "markdown",
   "id": "6501699b",
   "metadata": {
    "id": "6501699b"
   },
   "source": [
    "## Q1. Pre-process the reviews: (10 points)\n",
    "\n",
    "We know that a review contains links, punctuation, stopwords and many other words that don't give a lot of meaning for the Naive Bayes model for prediction. \n",
    "\n",
    "In the cell below, one must implement text-preprocessing and remove links, punctuations and stopwords. It is also important to lowercase the letters so that 'Admire' and 'admire' are not treated as different words. \n",
    "\n",
    "In addition to this, perform stemming operation so that similar words are reduced. To know more about stemming, feel free to take a look at this link.\n",
    "\n",
    "https://nlp.stanford.edu/IR-book/html/htmledition/stemming-and-lemmatization-1.html"
   ]
  },
  {
   "cell_type": "code",
   "execution_count": 11,
   "id": "CirLN9-ddQ1r",
   "metadata": {
    "id": "CirLN9-ddQ1r"
   },
   "outputs": [],
   "source": [
    "# TASK CELL\n",
    "\n",
    "import string\n",
    "string.punctuation\n",
    "\n",
    "stopword = nltk.corpus.stopwords.words('english')\n",
    "ps = nltk.PorterStemmer()\n",
    "\n",
    "def toLowerCase(text):\n",
    "    return text.lower()\n",
    "\n",
    "def removePunctuation(text):\n",
    "    return \"\".join([char for char in text if char not in string.punctuation])\n",
    "\n",
    "def removeURLs(text):\n",
    "    text = re.sub(r\"http\\S+\", \"\", text) # replaces URLs starting with http \n",
    "    text = re.sub(r\"www.\\S+\", \"\", text) # replaces URLs starting with www\n",
    "    return text\n",
    "\n",
    "def removeStopwords(text):\n",
    "    return \" \".join([word for word in re.split('\\W+', text)\n",
    "        if word not in stopword])\n",
    "\n",
    "def performStemming(text):\n",
    "     return\" \".join([ps.stem(word) for word in re.split('\\W+', text)])\n",
    "\n",
    "\n",
    "def clean_review(review):\n",
    "    '''\n",
    "    Input:\n",
    "        review: a string containing a review.\n",
    "    Output:\n",
    "        review_cleaned: a processed review. \n",
    "\n",
    "    '''\n",
    "    lower_case = toLowerCase(review)\n",
    "    removed_links = removeURLs(lower_case)\n",
    "    removed_punct = removePunctuation(removed_links)\n",
    "    removed_stopwords = removeStopwords(removed_punct)\n",
    "    review_cleaned = performStemming(removed_stopwords)\n",
    "\n",
    "    return review_cleaned"
   ]
  },
  {
   "cell_type": "markdown",
   "id": "a7632fe5",
   "metadata": {
    "id": "a7632fe5"
   },
   "source": [
    "## Q2. Implement a find_occurrence function (5 points):\n",
    "\n",
    "In this function, we find the total occurrence of a word giving information such as label, word and frequency dictionary.\n",
    "\n",
    "Note that this function is used later in the code when we are going to be predicting the output using Naive Bayes. "
   ]
  },
  {
   "cell_type": "code",
   "execution_count": 12,
   "id": "eb282b81",
   "metadata": {
    "id": "eb282b81"
   },
   "outputs": [],
   "source": [
    "# TASK CELL\n",
    "def find_occurrence(frequency, word, label):\n",
    "    '''\n",
    "    Params:\n",
    "        frequency: a dictionary with the frequency of each pair (or tuple)\n",
    "        word: the word to look up\n",
    "        label: the label corresponding to the word\n",
    "    Return:\n",
    "        n: the number of times the word with its corresponding label appears.\n",
    "    '''\n",
    "    for key, value in frequency.items():\n",
    "        if key[0] == word and key[1] == label:\n",
    "            n = value\n",
    "            return n\n",
    "    n = 0\n",
    "    return n"
   ]
  },
  {
   "cell_type": "code",
   "execution_count": 13,
   "id": "9a96dc80",
   "metadata": {},
   "outputs": [
    {
     "data": {
      "text/plain": [
       "2"
      ]
     },
     "execution_count": 13,
     "metadata": {},
     "output_type": "execute_result"
    }
   ],
   "source": [
    "my_dict = { ('bored', 'negative'): 2, ('exciting', 'positive'): 1} \n",
    "find_occurrence(my_dict, 'bored', 'negative')"
   ]
  },
  {
   "cell_type": "markdown",
   "id": "29a2249d",
   "metadata": {
    "id": "29a2249d"
   },
   "source": [
    "### Converting output to numerical format:\n",
    "\n",
    "We have outputs as 'positive' or 'negative'. In the cell below, we convert it to a numerical format. "
   ]
  },
  {
   "cell_type": "code",
   "execution_count": 14,
   "id": "bcdc2b2c",
   "metadata": {
    "id": "bcdc2b2c"
   },
   "outputs": [],
   "source": [
    "## With the use of mapping function, we replace\n",
    "## the label in the form of string to an integer. \n",
    "\n",
    "output_map = {'positive': 0, 'negative': 1}\n",
    "y_train = y_train.map(output_map)\n",
    "y_test = y_test.map(output_map)"
   ]
  },
  {
   "cell_type": "code",
   "execution_count": 15,
   "id": "3dde0bbd",
   "metadata": {
    "colab": {
     "base_uri": "https://localhost:8080/"
    },
    "id": "3dde0bbd",
    "outputId": "223dfbc1-8efe-4183-b6d7-c9cb025cb285"
   },
   "outputs": [
    {
     "data": {
      "text/plain": [
       "1    10000\n",
       "0    10000\n",
       "Name: sentiment, dtype: int64"
      ]
     },
     "execution_count": 15,
     "metadata": {},
     "output_type": "execute_result"
    }
   ],
   "source": [
    "## Ensuring that there are equal number of classes on the training data. \n",
    "y_train\n",
    "y_train.value_counts()"
   ]
  },
  {
   "cell_type": "code",
   "execution_count": 16,
   "id": "f2959b85",
   "metadata": {
    "colab": {
     "base_uri": "https://localhost:8080/",
     "height": 178
    },
    "id": "f2959b85",
    "outputId": "e514214b-cd57-43fc-875d-1821ddab63f8"
   },
   "outputs": [
    {
     "data": {
      "text/plain": [
       "\"That's the worst film I saw since a long time. Historic accuracy is totally non-existent. For example, James Wolfe, who his depicted as an anti-French Canadian, is shown in London during the summer of 1759. Natives are like Indians of a bad Hollywood movie of the 60's : They wear deerskin clothes and ride horses (The Montagnais had never ride horses). The film is taking place in Quebec City, but footage is set in Louisbourg, showing the Atlantic Ocean.<br /><br />The original scenario was supposed to include the Battle of the Plains of Abraham, but the producers drop this idea saying that costs for uniforms and participants would be more than 4 millions dollars ! I think they never heard about re-enactment.<br /><br />All the movie is planned to be a new Titanic : an impossible love during an historic tragedy (the fall of New-France). There's even a song performed by Celine Dion at the end of the movie (Yes, I stayed till the end of the movie, but I deeply regret). But the worst thing of all is that this movie cost 30 millions dollars. I just don't know how they spend all this money.<br /><br />Sorry for my anger, but I'm just too irritated.\""
      ]
     },
     "execution_count": 16,
     "metadata": {},
     "output_type": "execute_result"
    }
   ],
   "source": [
    "## Choosing a random review and taking a look at it.\n",
    "X_train.iloc[0]"
   ]
  },
  {
   "cell_type": "markdown",
   "id": "ed5e43c9",
   "metadata": {
    "id": "ed5e43c9"
   },
   "source": [
    "From the above cell output, it could be seen that there are a lot of words that don't add a lot of meaning to the text. \n",
    "\n",
    "Therefore, those words would be removed. It also reduces the computation time. \n",
    "\n",
    "Therefore, it is a good practice we are following."
   ]
  },
  {
   "cell_type": "code",
   "execution_count": 17,
   "id": "ad3937ea",
   "metadata": {
    "colab": {
     "base_uri": "https://localhost:8080/"
    },
    "id": "ad3937ea",
    "outputId": "68985efe-32cd-4c11-ed5b-2e1e1b297e73"
   },
   "outputs": [
    {
     "name": "stdout",
     "output_type": "stream",
     "text": [
      "that worst film saw sinc long time histor accuraci total nonexist exampl jame wolf depict antifrench canadian shown london summer 1759 nativ like indian bad hollywood movi 60 wear deerskin cloth ride hors montagnai never ride hors film take place quebec citi footag set louisbourg show atlant oceanbr br origin scenario suppos includ battl plain abraham produc drop idea say cost uniform particip would 4 million dollar think never heard reenactmentbr br movi plan new titan imposs love histor tragedi fall newfranc there even song perform celin dion end movi ye stay till end movi deepli regret worst thing movi cost 30 million dollar dont know spend moneybr br sorri anger im irrit\n"
     ]
    }
   ],
   "source": [
    "custom_review = X_train.iloc[0]\n",
    "\n",
    "# print cleaned review\n",
    "print(clean_review(custom_review))"
   ]
  },
  {
   "cell_type": "markdown",
   "id": "3e6cc440",
   "metadata": {
    "id": "3e6cc440"
   },
   "source": [
    "We now use this function to pre-process the review and remove words that don't add a lot of meaning in our model. "
   ]
  },
  {
   "cell_type": "markdown",
   "id": "5a762960",
   "metadata": {
    "id": "5a762960"
   },
   "source": [
    "## Q3. Implementing review counter function: (5 points)\n",
    "\n",
    "It is now time to implement the count function for the reviews. \n",
    "\n",
    "In this function, we count the occurrence of words and get the probabilities \n",
    "for the words based on the training data. \n",
    "\n",
    "In other words, we get the probability of occurrence of a word, given that the output is 'positive'.\n",
    "\n",
    "Similarly, we also compute the probability of occurence of a word, given that the output is 'negative'.\n",
    "\n"
   ]
  },
  {
   "cell_type": "code",
   "execution_count": 18,
   "id": "5de61f77",
   "metadata": {
    "id": "5de61f77"
   },
   "outputs": [],
   "source": [
    "# TASK CELL\n",
    "def review_counter(output_occurrence, reviews, positive_or_negative):\n",
    "    '''\n",
    "    Params:\n",
    "        output_occurrence: a dictionary that will be used to map each pair to its frequency\n",
    "        reviews: a list of reviews\n",
    "        positive_or_negative: a list corresponding to the sentiment of each review (either 0 or 1)\n",
    "    Return:\n",
    "        output: a dictionary mapping each pair to its frequency\n",
    "    '''\n",
    "    ## Steps :\n",
    "    # define the key, which is the word and label tuple\n",
    "    # if the key exists in the dictionary, increment the count\n",
    "    # else, if the key is new, add it to the dictionary and set the count to 1\n",
    "    \n",
    "    for label, review in zip(positive_or_negative, reviews):\n",
    "      split_review = clean_review(review).split()\n",
    "      for word in split_review:\n",
    "        # Your code here\n",
    "        key = (word, label)\n",
    "        if key in output_occurrence:\n",
    "            output_occurrence[key] += 1\n",
    "        else:\n",
    "            output_occurrence[key] = 1\n",
    "        \n",
    "   \n",
    "    return output_occurrence"
   ]
  },
  {
   "cell_type": "markdown",
   "id": "18238223",
   "metadata": {
    "id": "18238223"
   },
   "source": [
    "### Test your function with example reviews:\n",
    "\n",
    "Feel free to run the cell below and understand whether the above function that you have defined is producing the optimum results. "
   ]
  },
  {
   "cell_type": "code",
   "execution_count": 19,
   "id": "07a4c58a",
   "metadata": {
    "colab": {
     "base_uri": "https://localhost:8080/"
    },
    "id": "07a4c58a",
    "outputId": "dd9e148a-34a9-4cfe-9077-c5de33493d7a"
   },
   "outputs": [
    {
     "data": {
      "text/plain": [
       "{('got', 1): 1,\n",
       " ('bore', 1): 2,\n",
       " ('throught', 1): 1,\n",
       " ('moview', 1): 1,\n",
       " ('movi', 0): 2,\n",
       " ('fantast', 0): 1,\n",
       " ('watch', 1): 1,\n",
       " ('complet', 1): 1,\n",
       " ('wast', 1): 1,\n",
       " ('time', 1): 1,\n",
       " ('money', 1): 1,\n",
       " ('enjoy', 0): 1,\n",
       " ('fullest', 0): 1}"
      ]
     },
     "execution_count": 19,
     "metadata": {},
     "output_type": "execute_result"
    }
   ],
   "source": [
    "# Testing your function\n",
    "\n",
    "result = {}\n",
    "reviews = ['got bored throught the moview', 'The movie was fantastic', 'Will not watch it again', 'Was bored, it was a complete waste of time and money', 'Enjoyed the movie to the fullest']\n",
    "ys = [1, 0, 1, 1, 0]\n",
    "review_counter(result,reviews, ys)"
   ]
  },
  {
   "cell_type": "markdown",
   "id": "927f89bb",
   "metadata": {
    "id": "927f89bb"
   },
   "source": [
    "### Expected Output:\n",
    " {('bored', 1): 2, <br>\n",
    " ('complete', 1): 1, <br>\n",
    " ('enjoyed', 0): 1, <br>\n",
    " ('fantastic', 0): 1, <br>\n",
    " ('fullest', 0): 1, <br>\n",
    " ('got', 1): 1, <br>\n",
    " ('money', 1): 1, <br>\n",
    " ('movie', 0): 2, <br>\n",
    " ('moview', 1): 1, <br>\n",
    " ('throught', 1): 1, <br>\n",
    " ('time', 1): 1, <br>\n",
    " ('waste', 1): 1, <br>\n",
    " ('watch', 1): 1}"
   ]
  },
  {
   "cell_type": "code",
   "execution_count": 20,
   "id": "9bc62e13",
   "metadata": {
    "id": "9bc62e13"
   },
   "outputs": [],
   "source": [
    "# Build the freqs dictionary for later uses\n",
    "\n",
    "freqs = review_counter({}, X_train, y_train)"
   ]
  },
  {
   "cell_type": "code",
   "execution_count": 21,
   "id": "0eddf420",
   "metadata": {
    "id": "0eddf420"
   },
   "outputs": [
    {
     "data": {
      "text/plain": [
       "{('that', 1): 1830,\n",
       " ('worst', 1): 1868,\n",
       " ('film', 1): 17155,\n",
       " ('saw', 1): 1129,\n",
       " ('sinc', 1): 1083,\n",
       " ('long', 1): 1285,\n",
       " ('time', 1): 5762,\n",
       " ('histor', 1): 212,\n",
       " ('accuraci', 1): 18,\n",
       " ('total', 1): 948,\n",
       " ('nonexist', 1): 122,\n",
       " ('exampl', 1): 666,\n",
       " ('jame', 1): 272,\n",
       " ('wolf', 1): 76,\n",
       " ('depict', 1): 212,\n",
       " ('antifrench', 1): 2,\n",
       " ('canadian', 1): 109,\n",
       " ('shown', 1): 362,\n",
       " ('london', 1): 118,\n",
       " ('summer', 1): 124,\n",
       " ('1759', 1): 2,\n",
       " ('nativ', 1): 141,\n",
       " ('like', 1): 9520,\n",
       " ('indian', 1): 161,\n",
       " ('bad', 1): 5730,\n",
       " ('hollywood', 1): 662,\n",
       " ('movi', 1): 22459,\n",
       " ('60', 1): 151,\n",
       " ('wear', 1): 309,\n",
       " ('deerskin', 1): 2,\n",
       " ('cloth', 1): 200,\n",
       " ('ride', 1): 184,\n",
       " ('hors', 1): 105,\n",
       " ('montagnai', 1): 2,\n",
       " ('never', 1): 2755,\n",
       " ('take', 1): 2508,\n",
       " ('place', 1): 1042,\n",
       " ('quebec', 1): 6,\n",
       " ('citi', 1): 374,\n",
       " ('footag', 1): 331,\n",
       " ('set', 1): 1465,\n",
       " ('louisbourg', 1): 2,\n",
       " ('show', 1): 3312,\n",
       " ('atlant', 1): 7,\n",
       " ('oceanbr', 1): 6,\n",
       " ('br', 1): 23223,\n",
       " ('origin', 1): 1686,\n",
       " ('scenario', 1): 114,\n",
       " ('suppos', 1): 1097,\n",
       " ('includ', 1): 764,\n",
       " ('battl', 1): 245,\n",
       " ('plain', 1): 364,\n",
       " ('abraham', 1): 13,\n",
       " ('produc', 1): 847,\n",
       " ('drop', 1): 205,\n",
       " ('idea', 1): 1336,\n",
       " ('say', 1): 3214,\n",
       " ('cost', 1): 256,\n",
       " ('uniform', 1): 56,\n",
       " ('particip', 1): 59,\n",
       " ('would', 1): 5722,\n",
       " ('4', 1): 443,\n",
       " ('million', 1): 288,\n",
       " ('dollar', 1): 200,\n",
       " ('think', 1): 3506,\n",
       " ('heard', 1): 435,\n",
       " ('reenactmentbr', 1): 2,\n",
       " ('plan', 1): 338,\n",
       " ('new', 1): 1360,\n",
       " ('titan', 1): 30,\n",
       " ('imposs', 1): 209,\n",
       " ('love', 1): 2166,\n",
       " ('tragedi', 1): 83,\n",
       " ('fall', 1): 782,\n",
       " ('newfranc', 1): 2,\n",
       " ('there', 1): 1383,\n",
       " ('even', 1): 6189,\n",
       " ('song', 1): 557,\n",
       " ('perform', 1): 1480,\n",
       " ('celin', 1): 4,\n",
       " ('dion', 1): 5,\n",
       " ('end', 1): 3583,\n",
       " ('ye', 1): 644,\n",
       " ('stay', 1): 491,\n",
       " ('till', 1): 77,\n",
       " ('deepli', 1): 70,\n",
       " ('regret', 1): 91,\n",
       " ('thing', 1): 3688,\n",
       " ('30', 1): 297,\n",
       " ('dont', 1): 4227,\n",
       " ('know', 1): 3143,\n",
       " ('spend', 1): 419,\n",
       " ('moneybr', 1): 35,\n",
       " ('sorri', 1): 495,\n",
       " ('anger', 1): 80,\n",
       " ('im', 1): 2225,\n",
       " ('irrit', 1): 212,\n",
       " ('mayb', 1): 1129,\n",
       " ('unfair', 1): 35,\n",
       " ('dislik', 1): 115,\n",
       " ('isnt', 1): 1475,\n",
       " ('rather', 1): 1101,\n",
       " ('approach', 1): 155,\n",
       " ('hope', 1): 977,\n",
       " ('final', 1): 1132,\n",
       " ('filmmak', 1): 655,\n",
       " ('make', 1): 6138,\n",
       " ('smalltown', 1): 18,\n",
       " ('rural', 1): 31,\n",
       " ('gay', 1): 323,\n",
       " ('men', 1): 687,\n",
       " ('women', 1): 742,\n",
       " ('instead', 1): 1132,\n",
       " ('focu', 1): 188,\n",
       " ('primarili', 1): 52,\n",
       " ('outrag', 1): 100,\n",
       " ('bigotri', 1): 9,\n",
       " ('big', 1): 1265,\n",
       " ('news', 1): 123,\n",
       " ('local', 1): 426,\n",
       " ('outli', 1): 1,\n",
       " ('area', 1): 200,\n",
       " ('realli', 1): 4918,\n",
       " ('gruesom', 1): 67,\n",
       " ('torturemurd', 1): 1,\n",
       " ('young', 1): 1005,\n",
       " ('manbr', 1): 40,\n",
       " ('much', 1): 3819,\n",
       " ('devot', 1): 48,\n",
       " ('stupid', 1): 1274,\n",
       " ('peopl', 1): 3650,\n",
       " ('squawk', 1): 1,\n",
       " ('aid', 1): 83,\n",
       " ('sin', 1): 82,\n",
       " ('hellfir', 1): 4,\n",
       " ('pervert', 1): 42,\n",
       " ('ghoulish', 1): 7,\n",
       " ('preacher', 1): 13,\n",
       " ('rant', 1): 58,\n",
       " ('bibl', 1): 111,\n",
       " ('get', 1): 5959,\n",
       " ('deservebr', 1): 3,\n",
       " ('want', 1): 2765,\n",
       " ('see', 1): 5130,\n",
       " ('came', 1): 623,\n",
       " ('small', 1): 574,\n",
       " ('town', 1): 487,\n",
       " ('bar', 1): 191,\n",
       " ('oppos', 1): 68,\n",
       " ('addit', 1): 190,\n",
       " ('man', 1): 1855,\n",
       " ('murder', 1): 699,\n",
       " ('townbr', 1): 5,\n",
       " ('whole', 1): 1395,\n",
       " ('work', 1): 2375,\n",
       " ('warn', 1): 373,\n",
       " ('celebr', 1): 103,\n",
       " ('suspect', 1): 205,\n",
       " ('rocket', 1): 47,\n",
       " ('govern', 1): 171,\n",
       " ('experi', 1): 512,\n",
       " ('effect', 1): 1569,\n",
       " ('cosmic', 1): 11,\n",
       " ('ray', 1): 115,\n",
       " ('anim', 1): 648,\n",
       " ('crash', 1): 191,\n",
       " ('texa', 1): 90,\n",
       " ('start', 1): 1768,\n",
       " ('die', 1): 812,\n",
       " ('counti', 1): 14,\n",
       " ('sheriff', 1): 114,\n",
       " ('tri', 1): 2988,\n",
       " ('investig', 1): 171,\n",
       " ('hamper', 1): 11,\n",
       " ('effort', 1): 491,\n",
       " ('offici', 1): 55,\n",
       " ('turn', 1): 1504,\n",
       " ('mutant', 1): 74,\n",
       " ('space', 1): 371,\n",
       " ('gorilla', 1): 51,\n",
       " ('loos', 1): 186,\n",
       " ('kill', 1): 1791,\n",
       " ('teenag', 1): 317,\n",
       " ('woodsbr', 1): 7,\n",
       " ('low', 1): 780,\n",
       " ('budget', 1): 852,\n",
       " ('scienc', 1): 186,\n",
       " ('fiction', 1): 223,\n",
       " ('horror', 1): 1615,\n",
       " ('monster', 1): 650,\n",
       " ('thought', 1): 1495,\n",
       " ('good', 1): 5744,\n",
       " ('chanc', 1): 367,\n",
       " ('sadli', 1): 265,\n",
       " ('didntbr', 1): 24,\n",
       " ('mind', 1): 843,\n",
       " ('act', 1): 4183,\n",
       " ('corni', 1): 108,\n",
       " ('dialog', 1): 514,\n",
       " ('atroci', 1): 144,\n",
       " ('music', 1): 1176,\n",
       " ('score', 1): 342,\n",
       " ('giant', 1): 208,\n",
       " ('plot', 1): 3277,\n",
       " ('hole', 1): 264,\n",
       " ('lot', 1): 1831,\n",
       " ('problem', 1): 1067,\n",
       " ('seen', 1): 2550,\n",
       " ('enjoy', 1): 1175,\n",
       " ('kind', 1): 1355,\n",
       " ('waybr', 1): 69,\n",
       " ('other', 1): 533,\n",
       " ('type', 1): 528,\n",
       " ('night', 1): 862,\n",
       " ('fright', 1): 34,\n",
       " ('differ', 1): 866,\n",
       " ('terribl', 1): 1276,\n",
       " ('pace', 1): 386,\n",
       " ('drag', 1): 270,\n",
       " ('scene', 1): 4561,\n",
       " ('go', 1): 3848,\n",
       " ('without', 1): 1296,\n",
       " ('anyth', 1): 1436,\n",
       " ('happeningth', 1): 3,\n",
       " ('search', 1): 175,\n",
       " ('wood', 1): 301,\n",
       " ('clue', 1): 151,\n",
       " ('walk', 1): 606,\n",
       " ('forest', 1): 107,\n",
       " ('sever', 1): 631,\n",
       " ('seemingli', 1): 139,\n",
       " ('endless', 1): 150,\n",
       " ('danc', 1): 377,\n",
       " ('teen', 1): 220,\n",
       " ('parti', 1): 255,\n",
       " ('woodsbut', 1): 3,\n",
       " ('noth', 1): 2252,\n",
       " ('interest', 1): 1894,\n",
       " ('shorter', 1): 27,\n",
       " ('might', 1): 1311,\n",
       " ('bore', 1): 1506,\n",
       " ('though', 1): 1645,\n",
       " ('simpli', 1): 823,\n",
       " ('cut', 1): 680,\n",
       " ('save', 1): 914,\n",
       " ('onebr', 1): 89,\n",
       " ('given', 1): 733,\n",
       " ('three', 1): 843,\n",
       " ('view', 1): 689,\n",
       " ('sure', 1): 1246,\n",
       " ('gave', 1): 514,\n",
       " ('slam', 1): 35,\n",
       " ('review', 1): 992,\n",
       " ('gotten', 1): 116,\n",
       " ('wors', 1): 965,\n",
       " ('watch', 1): 5755,\n",
       " ('wont', 1): 511,\n",
       " ('fourth', 1): 44,\n",
       " ('heaven', 1): 121,\n",
       " ('mari', 1): 200,\n",
       " ('saint', 1): 46,\n",
       " ('got', 1): 1499,\n",
       " ('super', 1): 188,\n",
       " ('sperm', 1): 5,\n",
       " ('miracl', 1): 42,\n",
       " ('bejesu', 1): 2,\n",
       " ('call', 1): 1246,\n",
       " ('pope', 1): 25,\n",
       " ('ladi', 1): 366,\n",
       " ('desper', 1): 231,\n",
       " ('pregger', 1): 4,\n",
       " ('line', 1): 1428,\n",
       " ('side', 1): 494,\n",
       " ('door', 1): 238,\n",
       " ('mark', 1): 289,\n",
       " ('spark', 1): 68,\n",
       " ('finest', 1): 22,\n",
       " ('risibl', 1): 16,\n",
       " ('retro', 1): 12,\n",
       " ('eal', 1): 6,\n",
       " ('comedi', 1): 1313,\n",
       " ('bring', 1): 565,\n",
       " ('bit', 1): 1174,\n",
       " ('auld', 1): 3,\n",
       " ('irish', 1): 57,\n",
       " ('charm', 1): 231,\n",
       " ('two', 1): 2442,\n",
       " ('finger', 1): 90,\n",
       " ('throat', 1): 66,\n",
       " ('voamitu', 1): 2,\n",
       " ('maximu', 1): 5,\n",
       " ('one', 1): 10392,\n",
       " ('ten', 1): 355,\n",
       " ('icarli', 1): 18,\n",
       " ('wrong', 1): 912,\n",
       " ('world', 1): 1012,\n",
       " ('main', 1): 1006,\n",
       " ('charact', 1): 5530,\n",
       " ('carli', 1): 18,\n",
       " ('brother', 1): 498,\n",
       " ('freddi', 1): 95,\n",
       " ('moral', 1): 242,\n",
       " ('bankruptbr', 1): 1,\n",
       " ('sam', 1): 140,\n",
       " ('damag', 1): 77,\n",
       " ('whim', 1): 10,\n",
       " ('break', 1): 433,\n",
       " ('kid', 1): 1208,\n",
       " ('locker', 1): 19,\n",
       " ('forc', 1): 620,\n",
       " ('pay', 1): 383,\n",
       " ('100', 1): 161,\n",
       " ('fix', 1): 66,\n",
       " ('tough', 1): 131,\n",
       " ('luck', 1): 90,\n",
       " ('move', 1): 762,\n",
       " ('smash', 1): 57,\n",
       " ('cellphon', 1): 3,\n",
       " ('caus', 1): 385,\n",
       " ('least', 1): 1517,\n",
       " ('300', 1): 28,\n",
       " ('worth', 1): 868,\n",
       " ('focus', 1): 140,\n",
       " ('food', 1): 129,\n",
       " ('hell', 1): 555,\n",
       " ('she', 1): 554,\n",
       " ('everi', 1): 1574,\n",
       " ('felt', 1): 625,\n",
       " ('guilt', 1): 29,\n",
       " ('made', 1): 3335,\n",
       " ('fun', 1): 792,\n",
       " ('nag', 1): 14,\n",
       " ('crap', 1): 626,\n",
       " ('herbr', 1): 36,\n",
       " ('perfect', 1): 281,\n",
       " ('everyth', 1): 933,\n",
       " ('nice', 1): 749,\n",
       " ('girl', 1): 1599,\n",
       " ('benefit', 1): 57,\n",
       " ('often', 1): 491,\n",
       " ('remors', 1): 7,\n",
       " ('what', 1): 428,\n",
       " ('encourag', 1): 55,\n",
       " ('ruin', 1): 305,\n",
       " ('laugh', 1): 1350,\n",
       " ('grade', 1): 208,\n",
       " ('shrug', 1): 12,\n",
       " ('offbr', 1): 38,\n",
       " ('humour', 1): 151,\n",
       " ('track', 1): 238,\n",
       " ('play', 1): 2759,\n",
       " ('momentbr', 1): 15,\n",
       " ('he', 1): 1119,\n",
       " ('hot', 1): 361,\n",
       " ('yeah', 1): 230,\n",
       " ('your', 1): 922,\n",
       " ('right', 1): 1356,\n",
       " ('insan', 1): 133,\n",
       " ('amount', 1): 217,\n",
       " ('laughterbr', 1): 4,\n",
       " ('consist', 1): 273,\n",
       " ('around', 1): 1429,\n",
       " ('degrad', 1): 31,\n",
       " ('obscur', 1): 62,\n",
       " ('word', 1): 772,\n",
       " ('occasion', 1): 169,\n",
       " ('banter', 1): 20,\n",
       " ('trivial', 1): 18,\n",
       " ('matter', 1): 531,\n",
       " ('use', 1): 2074,\n",
       " ('similar', 1): 307,\n",
       " ('sentencesbr', 1): 2,\n",
       " ('mention', 1): 696,\n",
       " ('cool', 1): 396,\n",
       " ('special', 1): 977,\n",
       " ('techno', 1): 10,\n",
       " ('done', 1): 1159,\n",
       " ('window', 1): 142,\n",
       " ('maker', 1): 210,\n",
       " ('pain', 1): 524,\n",
       " ('slow', 1): 466,\n",
       " ('stori', 1): 4064,\n",
       " ('last', 1): 1206,\n",
       " ('day', 1): 1255,\n",
       " ('1999', 1): 38,\n",
       " ('strang', 1): 395,\n",
       " ('diseas', 1): 66,\n",
       " ('stop', 1): 682,\n",
       " ('care', 1): 874,\n",
       " ('live', 1): 1302,\n",
       " ('apart', 1): 349,\n",
       " ('complex', 1): 112,\n",
       " ('leak', 1): 10,\n",
       " ('plumber', 1): 7,\n",
       " ('put', 1): 1362,\n",
       " ('floor', 1): 143,\n",
       " ('woman', 1): 1044,\n",
       " ('also', 1): 2892,\n",
       " ('crisi', 1): 56,\n",
       " ('actual', 1): 2328,\n",
       " ('reportsbr', 1): 3,\n",
       " ('sound', 1): 1095,\n",
       " ('promisingbr', 1): 4,\n",
       " ('reallybr', 1): 17,\n",
       " ('becam', 1): 223,\n",
       " ('distract', 1): 101,\n",
       " ('deadli', 1): 113,\n",
       " ('subtitl', 1): 69,\n",
       " ('basic', 1): 695,\n",
       " ('event', 1): 381,\n",
       " ('seem', 1): 3303,\n",
       " ('surreal', 1): 51,\n",
       " ('look', 1): 4567,\n",
       " ('upbr', 1): 61,\n",
       " ('may', 1): 1149,\n",
       " ('didnt', 1): 2020,\n",
       " ('excus', 1): 303,\n",
       " ('motion', 1): 186,\n",
       " ('pictur', 1): 644,\n",
       " ('ever', 1): 2495,\n",
       " ('begin', 1): 1149,\n",
       " ('id', 1): 593,\n",
       " ('front', 1): 240,\n",
       " ('cover', 1): 426,\n",
       " ('mean', 1): 1300,\n",
       " ('mislead', 1): 58,\n",
       " ('truli', 1): 631,\n",
       " ('scari', 1): 400,\n",
       " ('clown', 1): 69,\n",
       " ('soooo', 1): 12,\n",
       " ('fact', 1): 1534,\n",
       " ('killer', 1): 673,\n",
       " ('face', 1): 787,\n",
       " ('doesnt', 1): 1961,\n",
       " ('slightli', 1): 200,\n",
       " ('resembl', 1): 167,\n",
       " ('imag', 1): 308,\n",
       " ('must', 1): 1155,\n",
       " ('found', 1): 995,\n",
       " ('googl', 1): 14,\n",
       " ('speak', 1): 443,\n",
       " ('gang', 1): 220,\n",
       " ('friend', 1): 1147,\n",
       " ('old', 1): 1515,\n",
       " ('suddenli', 1): 238,\n",
       " ('screen', 1): 961,\n",
       " ('chop', 1): 93,\n",
       " ('mother', 1): 538,\n",
       " ('deer', 1): 24,\n",
       " ('nurtur', 1): 3,\n",
       " ('glisten', 1): 4,\n",
       " ('sunlight', 1): 11,\n",
       " ('serious', 1): 517,\n",
       " ('wtf', 1): 41,\n",
       " ('relev', 1): 58,\n",
       " ('dark', 1): 583,\n",
       " ('wander', 1): 128,\n",
       " ('bought', 1): 187,\n",
       " ('market', 1): 144,\n",
       " ('entertain', 1): 959,\n",
       " ('wasnt', 1): 1095,\n",
       " ('funni', 1): 1725,\n",
       " ('next', 1): 695,\n",
       " ('colleagu', 1): 59,\n",
       " ('rid', 1): 54,\n",
       " ('plagu', 1): 84,\n",
       " ('name', 1): 1202,\n",
       " ('sickbr', 1): 15,\n",
       " ('bottom', 1): 207,\n",
       " ('happen', 1): 1545,\n",
       " ('china', 1): 52,\n",
       " ('video', 1): 747,\n",
       " ('store', 1): 245,\n",
       " ('run', 1): 1163,\n",
       " ('thin', 1): 135,\n",
       " ('englishlanguag', 1): 5,\n",
       " ('titlesâ', 1): 1,\n",
       " ('bless', 1): 43,\n",
       " ('appear', 1): 1097,\n",
       " ('romanian', 1): 21,\n",
       " ('cinema', 1): 448,\n",
       " ('nevertheless', 1): 41,\n",
       " ('real', 1): 1611,\n",
       " ('comed', 1): 106,\n",
       " ('potentialbr', 1): 7,\n",
       " ('spoiler', 1): 369,\n",
       " ('technic', 1): 224,\n",
       " ('followbr', 1): 9,\n",
       " ('spoil', 1): 137,\n",
       " ('anyon', 1): 1156,\n",
       " ('pleasur', 1): 106,\n",
       " ('ask', 1): 679,\n",
       " ('casino', 1): 18,\n",
       " ('beach', 1): 128,\n",
       " ('archeri', 1): 1,\n",
       " ('flashback', 1): 198,\n",
       " ('mysteri', 1): 463,\n",
       " ('mani', 1): 2316,\n",
       " ('conundrum', 1): 4,\n",
       " ('remain', 1): 292,\n",
       " ('exploit', 1): 227,\n",
       " ('comedian', 1): 87,\n",
       " ('perhap', 1): 647,\n",
       " ('theyr', 1): 656,\n",
       " ('stuck', 1): 166,\n",
       " ('bucharestbr', 1): 1,\n",
       " ('let', 1): 1263,\n",
       " ('wonder', 1): 1001,\n",
       " ('aloud', 1): 4,\n",
       " ('perfectli', 1): 114,\n",
       " ('goodlook', 1): 30,\n",
       " ('allow', 1): 407,\n",
       " ('abus', 1): 147,\n",
       " ('sad', 1): 439,\n",
       " ('open', 1): 828,\n",
       " ('compani', 1): 224,\n",
       " ('credit', 1): 548,\n",
       " ('inform', 1): 195,\n",
       " ('us', 1): 1225,\n",
       " ('intern', 1): 106,\n",
       " ('network', 1): 115,\n",
       " ('knew', 1): 312,\n",
       " ('couldnt', 1): 842,\n",
       " ('rememb', 1): 644,\n",
       " ('chang', 1): 680,\n",
       " ('channel', 1): 220,\n",
       " ('imdb', 1): 345,\n",
       " ('ill', 1): 510,\n",
       " ('still', 1): 1835,\n",
       " ('abl', 1): 476,\n",
       " ('sitebr', 1): 4,\n",
       " ('expect', 1): 1233,\n",
       " ('involv', 1): 789,\n",
       " ('fugit', 1): 13,\n",
       " ('incred', 1): 397,\n",
       " ('hulk', 1): 41,\n",
       " ('tv', 1): 1003,\n",
       " ('seri', 1): 886,\n",
       " ('shirt', 1): 77,\n",
       " ('rip', 1): 278,\n",
       " ('jimmi', 1): 68,\n",
       " ('cross', 1): 175,\n",
       " ('mob', 1): 62,\n",
       " ('entir', 1): 883,\n",
       " ('contriv', 1): 171,\n",
       " ('way', 1): 3243,\n",
       " ('goe', 1): 948,\n",
       " ('manner', 1): 184,\n",
       " ('find', 1): 1940,\n",
       " ('cathol', 1): 76,\n",
       " ('reform', 1): 34,\n",
       " ('school', 1): 675,\n",
       " ('notic', 1): 333,\n",
       " ('oft', 1): 2,\n",
       " ('descript', 1): 91,\n",
       " ('sentenc', 1): 91,\n",
       " ('answer', 1): 213,\n",
       " ('repeat', 1): 148,\n",
       " ('hard', 1): 1015,\n",
       " ('reli', 1): 111,\n",
       " ('coincid', 1): 57,\n",
       " ('anoth', 1): 1673,\n",
       " ('church', 1): 173,\n",
       " ('far', 1): 1172,\n",
       " ('compassion', 1): 19,\n",
       " ('led', 1): 113,\n",
       " ('believ', 1): 1577,\n",
       " ('establish', 1): 126,\n",
       " ('alcatraz', 1): 6,\n",
       " ('countri', 1): 293,\n",
       " ('club', 1): 170,\n",
       " ('head', 1): 864,\n",
       " ('priest', 1): 133,\n",
       " ('spit', 1): 61,\n",
       " ('donald', 1): 62,\n",
       " ('rumsfeld', 1): 1,\n",
       " ('feel', 1): 1915,\n",
       " ('larg', 1): 264,\n",
       " ('sugar', 1): 15,\n",
       " ('coat', 1): 37,\n",
       " ('honest', 1): 166,\n",
       " ('despit', 1): 500,\n",
       " ('ridicul', 1): 703,\n",
       " ('twist', 1): 429,\n",
       " ('etc', 1): 467,\n",
       " ('thriller', 1): 335,\n",
       " ('either', 1): 887,\n",
       " ('urg', 1): 41,\n",
       " ('switch', 1): 87,\n",
       " ('hand', 1): 770,\n",
       " ('compliment', 1): 24,\n",
       " ('rehash', 1): 64,\n",
       " ('success', 1): 476,\n",
       " ('alreadi', 1): 607,\n",
       " ('case', 1): 664,\n",
       " ('wed', 1): 109,\n",
       " ('date', 1): 271,\n",
       " ('best', 1): 1673,\n",
       " ('remak', 1): 332,\n",
       " ('guis', 1): 10,\n",
       " ('someth', 1): 2257,\n",
       " ('alon', 1): 350,\n",
       " ('project', 1): 358,\n",
       " ('ahead', 1): 119,\n",
       " ('studio', 1): 211,\n",
       " ('honcho', 1): 6,\n",
       " ('approv', 1): 28,\n",
       " ('star', 1): 1500,\n",
       " ('glossi', 1): 12,\n",
       " ('product', 1): 965,\n",
       " ('valu', 1): 486,\n",
       " ('come', 1): 2531,\n",
       " ('starsbr', 1): 13,\n",
       " ('ala', 1): 100,\n",
       " ('misguid', 1): 44,\n",
       " ('attempt', 1): 1066,\n",
       " ('writer', 1): 643,\n",
       " ('transplant', 1): 40,\n",
       " ('typic', 1): 309,\n",
       " ('american', 1): 877,\n",
       " ('situat', 1): 415,\n",
       " ('debra', 1): 13,\n",
       " ('mess', 1): 473,\n",
       " ('dermot', 1): 5,\n",
       " ('mulrooney', 1): 1,\n",
       " ('chemistri', 1): 168,\n",
       " ('oil', 1): 64,\n",
       " ('vinegarbr', 1): 1,\n",
       " ('kat', 1): 10,\n",
       " ('nick', 1): 75,\n",
       " ('conflict', 1): 134,\n",
       " ('viewer', 1): 725,\n",
       " ('pull', 1): 354,\n",
       " ('creator', 1): 85,\n",
       " ('clear', 1): 359,\n",
       " ('viceversa', 1): 3,\n",
       " ('predict', 1): 573,\n",
       " ('ami', 1): 46,\n",
       " ('adam', 1): 123,\n",
       " ('asset', 1): 25,\n",
       " ('junebug', 1): 1,\n",
       " ('across', 1): 398,\n",
       " ('shallow', 1): 140,\n",
       " ('will', 1): 121,\n",
       " ('keep', 1): 875,\n",
       " ('lie', 1): 233,\n",
       " ('clean', 1): 110,\n",
       " ('marri', 1): 256,\n",
       " ('almost', 1): 1253,\n",
       " ('seven', 1): 118,\n",
       " ('minut', 1): 2003,\n",
       " ('key', 1): 153,\n",
       " ('aspect', 1): 265,\n",
       " ('jobson', 1): 3,\n",
       " ('forgotten', 1): 133,\n",
       " ('abil', 1): 196,\n",
       " ('tell', 1): 1164,\n",
       " ('need', 1): 1415,\n",
       " ('audienc', 1): 1035,\n",
       " ('theyll', 1): 39,\n",
       " ('action', 1): 1260,\n",
       " ('interspers', 1): 25,\n",
       " ('ponder', 1): 39,\n",
       " ('narrat', 1): 138,\n",
       " ('unleash', 1): 34,\n",
       " ('unsuspect', 1): 28,\n",
       " ('public', 1): 237,\n",
       " ('purpl', 1): 16,\n",
       " ('prose', 1): 5,\n",
       " ('sensit', 1): 65,\n",
       " ('fifth', 1): 29,\n",
       " ('former', 1): 173,\n",
       " ('unnecessari', 1): 126,\n",
       " ('fine', 1): 361,\n",
       " ('cast', 1): 1625,\n",
       " ('beauti', 1): 706,\n",
       " ('compos', 1): 58,\n",
       " ('shot', 1): 1283,\n",
       " ('visual', 1): 350,\n",
       " ('jobbo', 1): 1,\n",
       " ('lit', 1): 39,\n",
       " ('support', 1): 379,\n",
       " ('lack', 1): 1029,\n",
       " ('credibl', 1): 119,\n",
       " ('70', 1): 212,\n",
       " ('edinburgh', 1): 22,\n",
       " ('exactli', 1): 384,\n",
       " ('full', 1): 584,\n",
       " ('braini', 1): 1,\n",
       " ('penchant', 1): 11,\n",
       " ('velvet', 1): 11,\n",
       " ('underground', 1): 91,\n",
       " ('soft', 1): 109,\n",
       " ('spot', 1): 213,\n",
       " ('pass', 1): 370,\n",
       " ('sociopath', 1): 15,\n",
       " ('neat', 1): 27,\n",
       " ('cod', 1): 2,\n",
       " ('intellectu', 1): 87,\n",
       " ('link', 1): 67,\n",
       " ('togeth', 1): 754,\n",
       " ('tast', 1): 204,\n",
       " ('unorigin', 1): 89,\n",
       " ('clicheridden', 1): 7,\n",
       " ('anteced', 1): 1,\n",
       " ('bear', 1): 165,\n",
       " ('mighti', 1): 32,\n",
       " ('duck', 1): 39,\n",
       " ('bound', 1): 49,\n",
       " ('better', 1): 2601,\n",
       " ('job', 1): 656,\n",
       " ('moment', 1): 963,\n",
       " ('teacher', 1): 237,\n",
       " ('greet', 1): 22,\n",
       " ('class', 1): 319,\n",
       " ('bother', 1): 391,\n",
       " ('loser', 1): 84,\n",
       " ('twenti', 1): 123,\n",
       " ('mile', 1): 147,\n",
       " ('away', 1): 1080,\n",
       " ('rest', 1): 798,\n",
       " ('usual', 1): 700,\n",
       " ('besid', 1): 205,\n",
       " ('spunki', 1): 2,\n",
       " ('group', 1): 494,\n",
       " ('endearingli', 1): 4,\n",
       " ('bratti', 1): 6,\n",
       " ('brat', 1): 29,\n",
       " ('endear', 1): 41,\n",
       " ('slowwit', 1): 1,\n",
       " ('torment', 1): 35,\n",
       " ('arrog', 1): 58,\n",
       " ('coach', 1): 58,\n",
       " ('win', 1): 276,\n",
       " ('rival', 1): 55,\n",
       " ('team', 1): 326,\n",
       " ('ad', 1): 324,\n",
       " ('nauseum', 1): 7,\n",
       " ('olivia', 1): 9,\n",
       " ('dabo', 1): 5,\n",
       " ('display', 1): 149,\n",
       " ('likabilti', 1): 1,\n",
       " ('steve', 1): 241,\n",
       " ('guttenberg', 1): 25,\n",
       " ('jay', 1): 44,\n",
       " ('sander', 1): 22,\n",
       " ('capabl', 1): 111,\n",
       " ('actor', 1): 2745,\n",
       " ('leav', 1): 843,\n",
       " ('writerdirector', 1): 97,\n",
       " ('holli', 1): 18,\n",
       " ('goldberg', 1): 29,\n",
       " ('sloan', 1): 3,\n",
       " ('definit', 1): 504,\n",
       " ('abomin', 1): 75,\n",
       " ('defin', 1): 56,\n",
       " ('webster', 1): 14,\n",
       " ('dictioari', 1): 2,\n",
       " ('abhorr', 1): 7,\n",
       " ('disgust', 1): 221,\n",
       " ('someon', 1): 1193,\n",
       " ('appropri', 1): 96,\n",
       " ('pleas', 1): 561,\n",
       " ('howev', 1): 1323,\n",
       " ('anyway', 1): 522,\n",
       " ('describ', 1): 294,\n",
       " ('aw', 1): 1245,\n",
       " ('isbr', 1): 81,\n",
       " ('went', 1): 685,\n",
       " ('roommat', 1): 44,\n",
       " ('actionadventur', 1): 18,\n",
       " ('flick', 1): 775,\n",
       " ('guru', 1): 9,\n",
       " ('latter', 1): 121,\n",
       " ('guy', 1): 2112,\n",
       " ('size', 1): 72,\n",
       " ('contain', 1): 298,\n",
       " ('explos', 1): 126,\n",
       " ('satisfiedbr', 1): 2,\n",
       " ('said', 1): 1000,\n",
       " ('enter', 1): 202,\n",
       " ('theater', 1): 405,\n",
       " ('friday', 1): 93,\n",
       " ('littl', 1): 2319,\n",
       " ('surpris', 1): 592,\n",
       " ('immediatelybr', 1): 6,\n",
       " ('unfortun', 1): 822,\n",
       " ('admit', 1): 300,\n",
       " ('5', 1): 459,\n",
       " ('scroll', 1): 21,\n",
       " ('text', 1): 85,\n",
       " ('yet', 1): 882,\n",
       " ('understand', 1): 845,\n",
       " ('director', 1): 2001,\n",
       " ('understood', 1): 56,\n",
       " ('illiter', 1): 11,\n",
       " ('ascertain', 1): 6,\n",
       " ('first', 1): 3263,\n",
       " ('longest', 1): 22,\n",
       " ('histori', 1): 413,\n",
       " ('sens', 1): 925,\n",
       " ('sequenc', 1): 620,\n",
       " ('hear', 1): 405,\n",
       " ('complet', 1): 1434,\n",
       " ('separ', 1): 99,\n",
       " ('ancient', 1): 102,\n",
       " ('civil', 1): 68,\n",
       " ('tamper', 1): 8,\n",
       " ('portal', 1): 18,\n",
       " ('crazi', 1): 223,\n",
       " ('scientist', 1): 238,\n",
       " ('orphan', 1): 19,\n",
       " ('read', 1): 1245,\n",
       " ('confus', 1): 436,\n",
       " ('alonebr', 1): 18,\n",
       " ('storylin', 1): 343,\n",
       " ('camera', 1): 908,\n",
       " ('tara', 1): 43,\n",
       " ('reid', 1): 43,\n",
       " ('horrend', 1): 93,\n",
       " ('actress', 1): 555,\n",
       " ('second', 1): 886,\n",
       " ('museum', 1): 32,\n",
       " ('curat', 1): 8,\n",
       " ('slater', 1): 41,\n",
       " ('convinc', 1): 401,\n",
       " ('reidbr', 1): 2,\n",
       " ('probabl', 1): 1215,\n",
       " ('creat', 1): 522,\n",
       " ('question', 1): 478,\n",
       " ('garbag', 1): 314,\n",
       " ('explain', 1): 500,\n",
       " ('point', 1): 1807,\n",
       " ('slightest', 1): 56,\n",
       " ('inkl', 1): 2,\n",
       " ('nobr', 1): 17,\n",
       " ('random', 1): 243,\n",
       " ('sex', 1): 790,\n",
       " ('told', 1): 343,\n",
       " ('bamsex', 1): 2,\n",
       " ('knowbr', 1): 34,\n",
       " ('oh', 1): 763,\n",
       " ('woeful', 1): 13,\n",
       " ('gunfight', 1): 23,\n",
       " ('20', 1): 319,\n",
       " ('militari', 1): 145,\n",
       " ('number', 1): 444,\n",
       " ('alien', 1): 493,\n",
       " ('heavymet', 1): 2,\n",
       " ('brain', 1): 275,\n",
       " ('hemorrhag', 1): 4,\n",
       " ('possiblebr', 1): 25,\n",
       " ('enoughbr', 1): 17,\n",
       " ('exist', 1): 315,\n",
       " ('villain', 1): 372,\n",
       " ('control', 1): 220,\n",
       " ('stand', 1): 459,\n",
       " ('hill', 1): 126,\n",
       " ('command', 1): 80,\n",
       " ('attack', 1): 404,\n",
       " ('outpost', 1): 9,\n",
       " ('becom', 1): 1032,\n",
       " ('suprem', 1): 54,\n",
       " ('listen', 1): 208,\n",
       " ('ideabr', 1): 24,\n",
       " ('evacu', 1): 12,\n",
       " ('knowsand', 1): 5,\n",
       " ('wontbr', 1): 5,\n",
       " ('top', 1): 533,\n",
       " ('state', 1): 375,\n",
       " ('exposur', 1): 35,\n",
       " ('guess', 1): 759,\n",
       " ('middl', 1): 352,\n",
       " ('ing', 1): 6,\n",
       " ('bright', 1): 129,\n",
       " ('pair', 1): 151,\n",
       " ('sunglass', 1): 12,\n",
       " ('carebr', 1): 22,\n",
       " ('ran', 1): 106,\n",
       " ('outsid', 1): 255,\n",
       " ('6', 1): 176,\n",
       " ('foot', 1): 85,\n",
       " ('inch', 1): 28,\n",
       " ('wave', 1): 72,\n",
       " ('arm', 1): 215,\n",
       " ('shake', 1): 122,\n",
       " ('afro', 1): 8,\n",
       " ('everyon', 1): 796,\n",
       " ('gungho', 1): 11,\n",
       " ('consid', 1): 575,\n",
       " ('past', 1): 437,\n",
       " ('2', 1): 1093,\n",
       " ('hour', 1): 980,\n",
       " ('1', 1): 647,\n",
       " ('greatest', 1): 138,\n",
       " ('evid', 1): 162,\n",
       " ('filmbr', 1): 345,\n",
       " ('sum', 1): 157,\n",
       " ('crapfest', 1): 11,\n",
       " ('give', 1): 2179,\n",
       " ('0010', 1): 2,\n",
       " ('lower', 1): 107,\n",
       " ('couldbr', 1): 11,\n",
       " ('unequivoc', 1): 7,\n",
       " ('wouldnt', 1): 515,\n",
       " ('wish', 1): 447,\n",
       " ('enemi', 1): 130,\n",
       " ('although', 1): 799,\n",
       " ('embryo', 1): 24,\n",
       " ('could', 1): 3633,\n",
       " ('potenti', 1): 337,\n",
       " ('provok', 1): 57,\n",
       " ('examin', 1): 43,\n",
       " ('bioethic', 1): 3,\n",
       " ('degener', 1): 39,\n",
       " ('stereotyp', 1): 311,\n",
       " ('frankenstein', 1): 50,\n",
       " ('parabl', 1): 5,\n",
       " ('monoton', 1): 66,\n",
       " ('lesson', 1): 130,\n",
       " ('realm', 1): 38,\n",
       " ('meant', 1): 239,\n",
       " ('studybr', 1): 3,\n",
       " ('rock', 1): 301,\n",
       " ('hudson', 1): 69,\n",
       " ('prevent', 1): 98,\n",
       " ('miscarri', 1): 3,\n",
       " ('babi', 1): 253,\n",
       " ('dog', 1): 385,\n",
       " ('immedi', 1): 180,\n",
       " ('jump', 1): 241,\n",
       " ('humansviol', 1): 3,\n",
       " ('medic', 1): 77,\n",
       " ('ethic', 1): 29,\n",
       " ('plausibilitywith', 1): 3,\n",
       " ('equal', 1): 232,\n",
       " ('unrealist', 1): 184,\n",
       " ('assist', 1): 114,\n",
       " ('hospit', 1): 144,\n",
       " ('administr', 1): 18,\n",
       " ('well', 1): 3089,\n",
       " ('decidedli', 1): 24,\n",
       " ('unpleas', 1): 73,\n",
       " ('effectsbr', 1): 17,\n",
       " ('barbara', 1): 53,\n",
       " ('carrera', 1): 14,\n",
       " ('reason', 1): 1560,\n",
       " ('role', 1): 1289,\n",
       " ('train', 1): 318,\n",
       " ('spectacular', 1): 55,\n",
       " ('suffer', 1): 326,\n",
       " ('fantast', 1): 104,\n",
       " ('messag', 1): 324,\n",
       " ('prologu', 1): 17,\n",
       " ('assur', 1): 56,\n",
       " ('repres', 1): 119,\n",
       " ('contemporari', 1): 67,\n",
       " ('technolog', 1): 114,\n",
       " ('scientif', 1): 59,\n",
       " ('fetch', 1): 35,\n",
       " ('twentyfirst', 1): 4,\n",
       " ('centuri', 1): 148,\n",
       " ('mid', 1): 50,\n",
       " ('1970', 1): 115,\n",
       " ('furthermor', 1): 67,\n",
       " ('cure', 1): 57,\n",
       " ('bioengin', 1): 3,\n",
       " ('comput', 1): 260,\n",
       " ('laughabl', 1): 318,\n",
       " ('fastpac', 1): 20,\n",
       " ('earth', 1): 364,\n",
       " ('mat', 1): 8,\n",
       " ('eighteen', 1): 12,\n",
       " ('convincingli', 1): 29,\n",
       " ('audit', 1): 49,\n",
       " ('quit', 1): 1335,\n",
       " ('soon', 1): 398,\n",
       " ('accept', 1): 278,\n",
       " ('naiv', 1): 61,\n",
       " ('boybr', 1): 8,\n",
       " ('engag', 1): 173,\n",
       " ('particular', 1): 264,\n",
       " ('interplay', 1): 5,\n",
       " ('policemen', 1): 12,\n",
       " ('natur', 1): 446,\n",
       " ('wellbalanc', 1): 2,\n",
       " ('wellbr', 1): 70,\n",
       " ('45', 1): 94,\n",
       " ('style', 1): 473,\n",
       " ('slick', 1): 38,\n",
       " ('vibrant', 1): 10,\n",
       " ('backdrop', 1): 41,\n",
       " ('atmospher', 1): 227,\n",
       " ('especi', 1): 729,\n",
       " ('colour', 1): 58,\n",
       " ('extrem', 1): 679,\n",
       " ('rich', 1): 207,\n",
       " ('gangland', 1): 4,\n",
       " ('identifi', 1): 64,\n",
       " ('foreign', 1): 128,\n",
       " ...}"
      ]
     },
     "execution_count": 21,
     "metadata": {},
     "output_type": "execute_result"
    }
   ],
   "source": [
    "## Run this cell to get an idea about the corpus of words and their occurrence along with labels. \n",
    "## In this, we are computing the frequency of occurrence of word given that a review is 'positive'.\n",
    "## Similarly, we also compute the frequence of occurence of word given that a review is 'negative'.\n",
    "freqs"
   ]
  },
  {
   "cell_type": "markdown",
   "id": "759c24bc",
   "metadata": {
    "id": "759c24bc"
   },
   "source": [
    "## Q4. Training the Naive Bayes Model: (20 points)\n",
    "\n",
    "Now we are in the training phase of the Naive Bayes algorithm. In this cell, take a look at the ways to calculate the log likelihood and log prior values as these are important for testing in the next few cells. \n",
    "\n",
    "Also calculate the frequency of occurrence of words where the output is negative. In the same way, calculate the word frequency count using the above functions in order to compute the log likelihood.\n",
    "\n",
    "Return the logprior and loglikelihood output by the model from this function. "
   ]
  },
  {
   "cell_type": "code",
   "execution_count": 22,
   "id": "a7f280e3",
   "metadata": {
    "id": "a7f280e3"
   },
   "outputs": [],
   "source": [
    "def train_naive_bayes(freqs, train_x, train_y):\n",
    "    '''\n",
    "    Input:\n",
    "        freqs: dictionary from (word, label) to how often the word appears\n",
    "        train_x: a list of reviews\n",
    "        train_y: a list of labels correponding to the reviews (0,1)\n",
    "    Output:\n",
    "        logprior: the log prior. (equation 3 above)\n",
    "        loglikelihood: the log likelihood of you Naive bayes equation. (equation 6 above)\n",
    "    '''\n",
    "    loglikelihood = {}\n",
    "    logprior = 0\n",
    "\n",
    "\n",
    "    # calculate V, the number of unique words in the vocabulary\n",
    "    vocab = set([key[0] for key in freqs.keys()])\n",
    "    V = len(vocab)\n",
    "\n",
    "    # calculate num_pos and num_neg - the total number of positive and negative words for all documents\n",
    "    num_pos = num_neg = 0\n",
    "    for pair in freqs.keys():\n",
    "        # if the label is positive (greater than zero)\n",
    "        if pair[1] == 0:\n",
    "\n",
    "            # Increment the number of positive words by the count for this (word, label) pair\n",
    "            num_pos += freqs[pair]\n",
    "\n",
    "        # else, the label is negative\n",
    "        else:\n",
    "\n",
    "            # increment the number of negative words by the count for this (word,label) pair\n",
    "            num_neg += freqs[pair]\n",
    "\n",
    "    # Calculate num_doc, the number of documents\n",
    "    num_doc = len(train_y)\n",
    "\n",
    "    # Calculate D_pos, the number of positive documents \n",
    "    pos_num_docs = (len(list(filter(lambda x: x == 0, train_y)))) \n",
    "\n",
    "    # Calculate D_neg, the number of negative documents \n",
    "    neg_num_docs = (len(list(filter(lambda x: x == 1, train_y))))\n",
    "\n",
    "    # Calculate logprior\n",
    "    logprior = np.log(neg_num_docs) - np.log(pos_num_docs)\n",
    "\n",
    "    # For each word in the vocabulary...\n",
    "    for word in vocab:\n",
    "        # get the positive and negative frequency of the word\n",
    "        freq_pos = [freqs[key] for key in freqs.keys() if word == key[0] and key[1] == 0]\n",
    "        freq_neg = [freqs[key] for key in freqs.keys() if word == key[0] and key[1] == 1]\n",
    "        \n",
    "        if not freq_pos:\n",
    "            freq_pos = [0]\n",
    "        if not freq_neg:\n",
    "            freq_neg = [0]\n",
    "        \n",
    "        # calculate the probability that each word is positive, and negative\n",
    "        p_w_pos = (freq_pos[0] + 1) / (num_pos + V)\n",
    "        p_w_neg = (freq_neg[0] + 1) / (num_neg + V)\n",
    "\n",
    "        # calculate the log likelihood of the word\n",
    "        loglikelihood[word] = np.log(p_w_neg) - np.log(p_w_pos)\n",
    "\n",
    "\n",
    "    return logprior, loglikelihood"
   ]
  },
  {
   "cell_type": "code",
   "execution_count": 23,
   "id": "1561d892",
   "metadata": {
    "id": "1561d892"
   },
   "outputs": [
    {
     "name": "stdout",
     "output_type": "stream",
     "text": [
      "0.0\n",
      "75076\n"
     ]
    }
   ],
   "source": [
    "# You do not have to input any code in this cell, but it is relevant to grading, so please do not change anything\n",
    "logprior, loglikelihood = train_naive_bayes(freqs, X_train, y_train)\n",
    "print(logprior)\n",
    "print(len(loglikelihood))"
   ]
  },
  {
   "cell_type": "markdown",
   "id": "19d9c882",
   "metadata": {
    "id": "19d9c882"
   },
   "source": [
    "### Expected Output \n",
    "\n",
    "0.0 <br>\n",
    "91425"
   ]
  },
  {
   "cell_type": "markdown",
   "id": "78b51303",
   "metadata": {
    "id": "78b51303"
   },
   "source": [
    "## Q5. Implementing Naive Bayes Predict Function: (10 points)\n",
    "\n",
    "It is now time to make our prediction as to whether a given review is negative or positive respectively. \n",
    "\n",
    "After adding the log likelihood values, ensure that the output is 1 (negative) if the sum of the log likelihood value is greater than 0 and 0 (positive) if the sum of the log likelihood is less than or equal to 0. "
   ]
  },
  {
   "cell_type": "code",
   "execution_count": 24,
   "id": "b692c2f9",
   "metadata": {
    "id": "b692c2f9"
   },
   "outputs": [],
   "source": [
    "# TASK 4 CELL\n",
    "\n",
    "def naive_bayes_predict(review, logprior, loglikelihood):\n",
    "    '''\n",
    "    Params:\n",
    "        review: a string\n",
    "        logprior: a number\n",
    "        loglikelihood: a dictionary of words mapping to numbers\n",
    "    Return:\n",
    "        total_prob: the sum of all the loglikelihoods of each word in the review (if found in the dictionary) + logprior (a number)\n",
    "\n",
    "    '''\n",
    "    \n",
    "      # process the review to get a list of words\n",
    "    word_l = clean_review(review).split()\n",
    "\n",
    "    # initialize probability to zero\n",
    "    total_prob = 0\n",
    "\n",
    "    # add the logprior\n",
    "    total_prob += logprior\n",
    "\n",
    "    for word in word_l:\n",
    "\n",
    "        # check if the word exists in the loglikelihood dictionary\n",
    "        if word in loglikelihood:\n",
    "            # add the log likelihood of that word to the probability\n",
    "            total_prob += loglikelihood[word]\n",
    "\n",
    "    if total_prob > 0:\n",
    "        return 1\n",
    "    else:\n",
    "        return 0\n",
    "    #return total_prob"
   ]
  },
  {
   "cell_type": "code",
   "execution_count": 25,
   "id": "4b170333",
   "metadata": {
    "colab": {
     "base_uri": "https://localhost:8080/"
    },
    "id": "4b170333",
    "outputId": "0cf6bc90-90e8-4dee-bf95-7eaf39dce147"
   },
   "outputs": [
    {
     "name": "stdout",
     "output_type": "stream",
     "text": [
      "The expected output is 1\n"
     ]
    }
   ],
   "source": [
    "# You do not have to input any code in this cell, but it is relevant to grading, so please do not change anything\n",
    "\n",
    "# Experiment with your own review.\n",
    "my_review = \"I thought this series was going to be another fun, action series with some dynamic plots and great performances. I was wrong. While I like Jamie Denton, this show is hardly worth watching at all, unless you enjoy watching some people brutalized and the actions of the agents supposedly warranted under the theme of national security. The show is great propaganda for the current government, and spews out jingoism as though we talk that way every day. After a couple of episodes, it was boring the hell out of me, and I started watching reruns of House Invaders on BBCAmerica instead. Rather watch CSI and Without a Trace, without a doubt.\"\n",
    "p = naive_bayes_predict(my_review, logprior, loglikelihood)\n",
    "print('The expected output is', p)"
   ]
  },
  {
   "cell_type": "markdown",
   "id": "6242708f",
   "metadata": {
    "id": "6242708f"
   },
   "source": [
    "### Expected Output :\n",
    "The expected output is 1"
   ]
  },
  {
   "cell_type": "markdown",
   "id": "7c4eeb71",
   "metadata": {
    "id": "7c4eeb71"
   },
   "source": [
    "## Q6. Implementing Naive Bayes Test function: (10 points)\n",
    "\n",
    "In this function, implement the previous functions such as naive_bayes_predict to get the predictions for the test set. \n",
    "\n",
    "In addition to this, the function should return the total number of reviews that it correctly classified as 'positive' or 'negative'. "
   ]
  },
  {
   "cell_type": "code",
   "execution_count": 26,
   "id": "66a511e7",
   "metadata": {
    "id": "66a511e7"
   },
   "outputs": [],
   "source": [
    "# UNQ_C6 (UNIQUE CELL IDENTIFIER, DO NOT EDIT)\n",
    "def test_naive_bayes(test_x, test_y, logprior, loglikelihood):\n",
    "    \"\"\"\n",
    "    Input:\n",
    "        test_x: A list of reviews\n",
    "        test_y: the corresponding labels for the list of reviews\n",
    "        logprior: the logprior\n",
    "        loglikelihood: a dictionary with the loglikelihoods for each word\n",
    "    Output:\n",
    "        accuracy: (# of reviews classified correctly)/(total # of reviews)\n",
    "    \"\"\"\n",
    "    accuracy = 0  \n",
    "\n",
    "    \n",
    "    y_hats = []\n",
    "    for review in test_x:\n",
    "        # if the prediction is > 0\n",
    "        if naive_bayes_predict(review, logprior, loglikelihood) > 0:\n",
    "            # the predicted class is 1\n",
    "            y_hat_i = 1\n",
    "        else:\n",
    "            # otherwise the predicted class is 0\n",
    "            y_hat_i = 0\n",
    "\n",
    "        # append the predicted class to the list y_hats\n",
    "        y_hats.append(y_hat_i)\n",
    "\n",
    "    # error is the average of the absolute values of the differences between y_hats and test_y\n",
    "    error = np.mean(np.absolute(y_hats - test_y))\n",
    "\n",
    "    accuracy = 1 - error\n",
    "    \n",
    "    return y_hats\n",
    "\n",
    "    #return accuracy"
   ]
  },
  {
   "cell_type": "code",
   "execution_count": 27,
   "id": "8a9c5d9d",
   "metadata": {
    "id": "8a9c5d9d"
   },
   "outputs": [
    {
     "name": "stdout",
     "output_type": "stream",
     "text": [
      "If you like original gut wrenching laughter you will like this movie. If you are young or old then y -> 0.00\n",
      "What a waste of talent. A very poor, semi-coherent, script cripples this film. Rather unimaginative  -> 1.00\n",
      "I have seen this film at least 100 times and I am still excited by it, the acting is perfect and the -> 0.00\n",
      "Cheap, amateurish, unimaginative, exploitative... but don't think it'll have redeeming amusement val -> 1.00\n"
     ]
    }
   ],
   "source": [
    "# For grading purpose only\n",
    "# You do not have to input any code in this cell, but it is relevant to grading, so please do not change anything\n",
    "\n",
    "# Run this cell to test your function\n",
    "\n",
    "for review in [\"If you like original gut wrenching laughter you will like this movie. If you are young or old then you will love this movie, hell even my mom liked it.<br /><br />Great Camp!!!\",\n",
    "                \"What a waste of talent. A very poor, semi-coherent, script cripples this film. Rather unimaginative direction, too. Some VERY faint echoes of Fargo here, but it just doesn't come off.\",\n",
    "                \"I have seen this film at least 100 times and I am still excited by it, the acting is perfect and the romance between Joe and Jean keeps me on the edge of my seat, plus I still think Bryan Brown is the tops. Brilliant Film.\",\n",
    "                \"Cheap, amateurish, unimaginative, exploitative... but don't think it'll have redeeming amusement value. About as unentertaining, uninstructive and just plain dull as a film can be.\"]:\n",
    "    p = naive_bayes_predict(review, logprior, loglikelihood)\n",
    "    print(f'{review[:100]} -> {p:.2f}')\n",
    "    "
   ]
  },
  {
   "cell_type": "markdown",
   "id": "43e2ef98",
   "metadata": {
    "id": "43e2ef98"
   },
   "source": [
    "### Expected Output :\n",
    "\n",
    "If you like original gut wrenching laughter you will like this movie. If you are young or old then y -> 0.00 <br>\n",
    "What a waste of talent. A very poor, semi-coherent, script cripples this film. Rather unimaginative  -> 1.00<br>\n",
    "I have seen this film at least 100 times and I am still excited by it, the acting is perfect and the -> 0.00 <br>\n",
    "Cheap, amateurish, unimaginative, exploitative... but don't think it'll have redeeming amusement val -> 1.00\n",
    "\n"
   ]
  },
  {
   "cell_type": "code",
   "execution_count": 28,
   "id": "216fa97a",
   "metadata": {
    "colab": {
     "base_uri": "https://localhost:8080/"
    },
    "id": "216fa97a",
    "outputId": "9d1f21c7-b324-43c2-e841-269c0306cbb4"
   },
   "outputs": [
    {
     "data": {
      "text/plain": [
       "1"
      ]
     },
     "execution_count": 28,
     "metadata": {},
     "output_type": "execute_result"
    }
   ],
   "source": [
    "# Feel free to check the sentiment of your own review below\n",
    "my_review = 'The moview was very boring, I wanted to leave in the middle'\n",
    "naive_bayes_predict(my_review, logprior, loglikelihood)"
   ]
  },
  {
   "cell_type": "markdown",
   "id": "8a45e4f0",
   "metadata": {
    "id": "8a45e4f0"
   },
   "source": [
    "### Expected Output :\n",
    "1"
   ]
  },
  {
   "cell_type": "markdown",
   "id": "mAIkM4aCC1H7",
   "metadata": {
    "id": "mAIkM4aCC1H7"
   },
   "source": [
    "# Q7. Evaluate the accuracy (10 Points)\n",
    "1. Split your data into training and test sets using random selection. Set the seed as parameter of the function so that user can select a different training and test set by changin seed.\n",
    "\n",
    "2. Calculate model paramters with training set.\n",
    "\n",
    "3. Print confusion matrix for training and test set.\n",
    "\n",
    "4. Examine False Positive and False Negative cases and provide reasoning why they get misclassified."
   ]
  },
  {
   "cell_type": "code",
   "execution_count": 29,
   "id": "aca6ba46",
   "metadata": {},
   "outputs": [
    {
     "name": "stdout",
     "output_type": "stream",
     "text": [
      "0.0076160303996193335\n",
      "74907\n"
     ]
    }
   ],
   "source": [
    "from sklearn.model_selection import train_test_split\n",
    "y = df_upsampled['sentiment']\n",
    "X = df_upsampled['review']\n",
    "output_map = {'positive': 0, 'negative': 1}\n",
    "y = y.map(output_map)\n",
    "X_train, X_test, y_train, y_test = train_test_split(X, y, test_size = 0.2, random_state=42)\n",
    "freqs = review_counter({}, X_train, y_train)\n",
    "freqs\n",
    "logprior, loglikelihood = train_naive_bayes(freqs, X_train, y_train)\n",
    "print(logprior)\n",
    "print(len(loglikelihood))"
   ]
  },
  {
   "cell_type": "markdown",
   "id": "6c5bc279",
   "metadata": {},
   "source": [
    "Below are the confusion matrices for the train and test set. We can see from these that the Naive Bayes has very good accuracy for the most part (over 80%). However, there still exists some false positives and negatives. Some reasons those might exist are that when we remove stopwords and punctuation (among other things in our preprocessing step), we end up removing some items that may provide important context about the sentiment of the review. Additionally, the reviews may contain sarcasm or euphemisms that the algorithm is not equipped to accurately interpret.  "
   ]
  },
  {
   "cell_type": "code",
   "execution_count": 30,
   "id": "269fabc2",
   "metadata": {},
   "outputs": [
    {
     "data": {
      "image/png": "[encoded data removed]",
      "text/plain": [
       "<Figure size 640x480 with 2 Axes>"
      ]
     },
     "metadata": {},
     "output_type": "display_data"
    }
   ],
   "source": [
    "# confusion matrix for test set\n",
    "y_hats = test_naive_bayes(X_test, y_test, logprior, loglikelihood)\n",
    "data = {'y_actual':    y_test,\n",
    "        'y_predicted': y_hats\n",
    "        }\n",
    "\n",
    "df = pd.DataFrame(data)\n",
    "df\n",
    "confusion_matrix = pd.crosstab(df['y_actual'], df['y_predicted'], rownames=['Actual'], colnames=['Predicted'])\n",
    "\n",
    "sns.heatmap(confusion_matrix, annot=True, fmt='g')\n",
    "plt.show()"
   ]
  },
  {
   "cell_type": "code",
   "execution_count": 31,
   "id": "95b56343",
   "metadata": {},
   "outputs": [
    {
     "data": {
      "image/png": "[encoded data removed]",
      "text/plain": [
       "<Figure size 640x480 with 2 Axes>"
      ]
     },
     "metadata": {},
     "output_type": "display_data"
    }
   ],
   "source": [
    "# confusion matrix for train set\n",
    "y_hats = test_naive_bayes(X_train, y_train, logprior, loglikelihood)\n",
    "data = {'y_actual':    y_train,\n",
    "        'y_predicted': y_hats\n",
    "        }\n",
    "\n",
    "df = pd.DataFrame(data)\n",
    "df\n",
    "confusion_matrix = pd.crosstab(df['y_actual'], df['y_predicted'], rownames=['Actual'], colnames=['Predicted'])\n",
    "\n",
    "sns.heatmap(confusion_matrix, annot=True, fmt='g')\n",
    "plt.show()"
   ]
  },
  {
   "cell_type": "markdown",
   "id": "XbzttYVnBo7W",
   "metadata": {
    "id": "XbzttYVnBo7W"
   },
   "source": [
    "# Q8. Modularize your calssifier (10 points)\n",
    "1. Convert your code into a python module text_classifier.py\n",
    "\n",
    "2. The user should be able to launch the application on command prompt using python test_classifier.py command. The module will automatically load the model paramters from a local file of your choice and be ready to take the input from user on command prompt. The program will preprocess user input, tokenize and predict the class.\n",
    "\n",
    "3. Your module will take the input from user and output sentiment class in an indefinite loop. The output should printout the probabilities for each input token along with the final classification decision. Program will quit if user enters X.\n"
   ]
  },
  {
   "cell_type": "code",
   "execution_count": 32,
   "id": "e714f288",
   "metadata": {},
   "outputs": [],
   "source": [
    "# store the model parameters in a local file to be used by the classifier\n",
    "import pickle\n",
    "with open('logprior.pkl', 'wb') as f:\n",
    "    pickle.dump(logprior, f)\n",
    "with open('loglikelihood.pkl', 'wb') as f:\n",
    "    pickle.dump(loglikelihood, f)"
   ]
  },
  {
   "cell_type": "markdown",
   "id": "82e6e4d1",
   "metadata": {
    "id": "82e6e4d1"
   },
   "source": [
    "# Q9. Theory Questions: (10 points)\n",
    "\n",
    "1. Why is Laplace Smoothing or Additive Smoothing required while executing Naive Bayes operations, especially for text classification? Show how not having additive smoothing leads to bad outcomes by using an example of training and the test set. (10 points)\n",
    "\n",
    "Laplace Smoothing is required because it solves the zero probability problem. For example, suppose we were trying to determine the likelihood of the word mediocre given the negative class but there were no documents in the training set that contained the word \"mediocre\" and was classified negative. As a result, the probability for this feature would be 0. Since Naive Bayes multiplies all the feature probabilities together, the presence of a zero would cause the probability of the class to be zero as well despite any evidence to the contrary seen by the previous features. Thus, when we don't have a particular word in the dataset, Laplace smoothing will make it so the posterior probability is not zero, which allows us to make a prediction on the test set.  \n",
    "\n",
    "2. Why are logarithmic values computed instead of only probability values in the Naive Bayes algorithm? (5 points)\n",
    "\n",
    "Logarithmic values are computed because the logarithm function is monotonically increasing so maximizing the logarithm of a function is the same as maximizing the function itself. This makes calculating the log more convenient as it simplifies the analysis, which leads to increasing speed for the algorithm and also helps avoid underflow. "
   ]
  },
  {
   "cell_type": "code",
   "execution_count": null,
   "id": "b0e1bb20",
   "metadata": {},
   "outputs": [],
   "source": []
  }
 ],
 "metadata": {
  "colab": {
   "collapsed_sections": [],
   "name": "CS6120_NLP_Assignment_1_Notebook.ipynb",
   "provenance": [],
   "toc_visible": true
  },
  "kernelspec": {
   "display_name": "Python 3 (ipykernel)",
   "language": "python",
   "name": "python3"
  },
  "language_info": {
   "codemirror_mode": {
    "name": "ipython",
    "version": 3
   },
   "file_extension": ".py",
   "mimetype": "text/x-python",
   "name": "python",
   "nbconvert_exporter": "python",
   "pygments_lexer": "ipython3",
   "version": "3.9.13"
  }
 },
 "nbformat": 4,
 "nbformat_minor": 5
}
